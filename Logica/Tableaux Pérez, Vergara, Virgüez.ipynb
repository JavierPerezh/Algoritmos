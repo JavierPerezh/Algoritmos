{
 "cells": [
  {
   "cell_type": "markdown",
   "metadata": {},
   "source": [
    "<table>\n",
    "    <tr>\n",
    "        <td><img src=\"./img/Macc.png\" width=\"auto\"/></td>\n",
    "        <td>\n",
    "            <table><tr>\n",
    "            <h1 style=\"color:blue;text-align:center\">Lógica para Ciencias de la Computación</h1></td>\n",
    "            </tr></table>   \n",
    "        <td>&nbsp;</td>\n",
    "        <td>\n",
    "            <table><tr>\n",
    "            <tp><p style=\"font-size:150%;text-align:center\">Taller</p></tp>\n",
    "            <tp><p style=\"font-size:150%;text-align:center\">Implementación de Tableaux</p></tp>\n",
    "            </tr></table>\n",
    "        </td>\n",
    "    </tr>\n",
    "</table>\n",
    "\n",
    "---"
   ]
  },
  {
   "cell_type": "markdown",
   "metadata": {},
   "source": [
    "# Objetivos <a class=\"anchor\" id=\"inicio\"></a>\n",
    "\n",
    "El objetivo de este notebook es implementar el algoritmo de construcción de tableros semánticos (tableaux). El método de los tableaux es un SATsolver, el cual recibe una fórmula y devuelve una interpretación de la misma, si es que existe, o informa que la fórmula es insatisfacible. Veremos diferentes maneras de implementar este método, dependiendo de distintas maneras de expandir el árbol del tableaux."
   ]
  },
  {
   "cell_type": "markdown",
   "metadata": {},
   "source": [
    "\n",
    "# Secciones\n",
    "\n",
    "1. [Clasificación de fórmulas para tableaux.](#clas)\n",
    "2. [Expansión primero en anchura.](#anchura)\n",
    "3. [Expansión primero en profundidad.](#prof)\n",
    "4. [Recorrido backtracking.](#backt)\n",
    "5. [Eficiencia de los algoritmos (opcional).](#efi)"
   ]
  },
  {
   "cell_type": "markdown",
   "metadata": {},
   "source": [
    "# Clasificación de fórmulas para tableaux <a class=\"anchor\" id=\"clas\"></a>\n",
    "\n",
    "([Volver al inicio](#inicio))\n",
    "\n",
    "Recordemos el siguiente diagrama de flujo para la implementación de un tableaux $\\tau$ para una fórmula $A$:\n",
    "\n",
    "<img src=\"./img/flow.png\" width=\"600\"/>\n",
    "\n",
    "Hay tres elementos centrales en este algoritmo:\n",
    "\n",
    "* Clasificación de una fórmula como $\\alpha$ o $\\beta$.\n",
    "* Implementación de los nodos.\n",
    "* Selección del próximo nodo a expandir.\n",
    "\n",
    "En esta sección veremos la clasificación de fórmulas y la implementación de los nodos. En las siguientes secciones veremos tres maneras distintas de seleccionar el próximo nodo a expandir."
   ]
  },
  {
   "cell_type": "markdown",
   "metadata": {},
   "source": [
    "### Clasificación de una fórmula como $\\alpha$ o $\\beta$\n",
    "\n",
    "Para realizar la implementación de los tableaux, el orden más apropiado es primero implementar la clasificación de fórmulas. Hemos visto que toda fórmula o es un literal, o puede clasificarse como una fórmula de tipo $\\alpha$ o $\\beta$. Para referencia, repetimos las clasificaciones en la siguiente figura:\n",
    "\n",
    "<img src=\"./img/clasif.png\" width=\"200px\"/>\n",
    "\n",
    "En el siguiente código hemos implementado la clasificación para dos casos: literales y fórmulas 1$\\alpha$:"
   ]
  },
  {
   "cell_type": "code",
   "execution_count": null,
   "metadata": {},
   "outputs": [],
   "source": [
    "from ProyectoLogica.Logica import *"
   ]
  },
  {
   "cell_type": "code",
   "execution_count": 2,
   "metadata": {},
   "outputs": [],
   "source": [
    "def clasifica_para_tableaux(self):\n",
    "    if type(self) == Letra:\n",
    "        return None, 'literal'          # Literal positivo\n",
    "    if type(self) == Negacion:\n",
    "        if type(self.subf) == Letra:\n",
    "            return None, 'literal'      # Literal negativo\n",
    "        if type(self.subf) == Negacion:\n",
    "            return 1, 'alfa'            # Fórmula 1 alfa\n",
    "        if type(self.subf) == Binario:\n",
    "            if self.subf.conectivo == 'Y':\n",
    "                return 1, 'beta'\n",
    "            if self.subf.conectivo == 'O':\n",
    "                return 3, 'alfa'\n",
    "            if self.subf.conectivo == '>':\n",
    "                return 4, 'alfa'\n",
    "            if self.subf.conectivo == '=':\n",
    "                return 5, 'beta'\n",
    "    if type(self) == Binario:\n",
    "        if self.conectivo == 'Y':\n",
    "            return 2, 'alfa'\n",
    "        if self.conectivo == 'O':\n",
    "            return 2, 'beta'\n",
    "        if self.conectivo == '>':\n",
    "            return 3, 'beta'\n",
    "        if self.conectivo == '=':\n",
    "            return 4, 'beta'\n",
    "\n",
    "setattr(Formula,\"clasifica_para_tableaux\",clasifica_para_tableaux)"
   ]
  },
  {
   "cell_type": "markdown",
   "metadata": {},
   "source": [
    "**Ejercicio 1:**\n",
    "\n",
    "Complete la anterior función `clasifica_para_tableaux` para clasificar el resto de fórmulas de acuerdo a su tipo. Pruebe su implementación con las siguientes fórmulas:\n",
    "\n",
    "**Nota:** La respuesta debe ser:\n",
    "\n",
    "```\n",
    "(1, 'alfa')\n",
    "(2, 'alfa')\n",
    "(3, 'alfa')\n",
    "(4, 'alfa')\n",
    "(1, 'beta')\n",
    "(2, 'beta')\n",
    "(3, 'beta')\n",
    "```"
   ]
  },
  {
   "cell_type": "code",
   "execution_count": 3,
   "metadata": {},
   "outputs": [
    {
     "name": "stdout",
     "output_type": "stream",
     "text": [
      "(1, 'alfa')\n",
      "(2, 'alfa')\n",
      "(3, 'alfa')\n",
      "(4, 'alfa')\n",
      "(1, 'beta')\n",
      "(2, 'beta')\n",
      "(None, 'literal')\n"
     ]
    }
   ],
   "source": [
    "f = '--(-(pOq)Y-(r>s))'  # 1, alfa\n",
    "A = inorder_to_tree(f)\n",
    "print(A.clasifica_para_tableaux())\n",
    "\n",
    "f = '(-(pOq)Y-(r>s))'  # 2, alfa\n",
    "A = inorder_to_tree(f)\n",
    "print(A.clasifica_para_tableaux())\n",
    "\n",
    "f = '-(pOq)'  # 3, alfa\n",
    "A = inorder_to_tree(f)\n",
    "print(A.clasifica_para_tableaux())\n",
    "\n",
    "f = '-(r>s)' # 4, alfa\n",
    "A = inorder_to_tree(f)\n",
    "print(A.clasifica_para_tableaux())\n",
    "\n",
    "f = '-(pYq)' # 1, beta\n",
    "A = inorder_to_tree(f)\n",
    "print(A.clasifica_para_tableaux())\n",
    "\n",
    "f = '(-(pYq)O(r>s))' # 2, beta\n",
    "A = inorder_to_tree(f)\n",
    "print(A.clasifica_para_tableaux())\n",
    "\n",
    "f = '-g' # None, literal\n",
    "A = inorder_to_tree(f)\n",
    "print(A.clasifica_para_tableaux())"
   ]
  },
  {
   "cell_type": "markdown",
   "metadata": {},
   "source": [
    "---"
   ]
  },
  {
   "cell_type": "markdown",
   "metadata": {},
   "source": [
    "### Implementación de los nodos\n",
    "\n",
    "El tableaux que vamos a implementar está basado en una estructura de datos conocida como árbol, el cual está basado en nodos. Los nodos son de la clase `nodos_tableaux` que se encuentra en la librería `Logica`. La descripción de la clase es la siguiente:\n",
    "\n",
    "**Atributos:**\n",
    "\n",
    "* `alfa`: una lista con las fórmulas tipo $\\alpha$, representadas como una 4-tupla que incluye la fórmula como árbol, como cadena, el número de la regla y la cadena 'alfa'.\n",
    "* `beta`: una lista con las fórmulas tipo $\\beta$, representadas como una 4-tupla que incluye la fórmula como árbol, como cadena, el número de la regla y la cadena 'beta'.\n",
    "* `literales`: una lista con los literales, representados como una 4-tupla que incluye la fórmula como árbol, como cadena, None y la cadena 'literal'.\n",
    "\n",
    "**Métodos:**\n",
    "\n",
    "* `tiene_lit_comp()`: retorna `True` si self.`literales` tiene un par complementario de literales.\n",
    "* `es_hoja()`: retorna 'cerrada' si self.`literales` tiene un par complementario de literales; 'abierta' si self.`literales` NO tiene un par complementario de literales y no tiene reglas ni alfa ni beta; None en otro caso.\n",
    "* `interp()`: retorna un diccionario que hace veradero a todos los literales en self.`literales`.\n",
    "* `expandir()`: retorna una lista con un único `nodo_tableaux`, el cual es el resultado de aplicar la primera regla $\\alpha$. Si no hay reglas $\\alpha$, retorna una lista con dos `nodo_tableaux` que son el resultado de aplicar la primera regla $\\beta$. Si no hay reglas $\\beta$, retorna una lista vacía.\n",
    "\n",
    "Para ilustrar esta clase, instanciemos un objeto a partir de una fórmula $\\alpha$, una $\\beta$ y un literal:"
   ]
  },
  {
   "cell_type": "code",
   "execution_count": 4,
   "metadata": {},
   "outputs": [
    {
     "name": "stdout",
     "output_type": "stream",
     "text": [
      "Nodo n:\n",
      "Alfas:['-(p>q)']\n",
      "Betas:['(pOq)']\n",
      "Literales:['-p']\n",
      "\n",
      "¿Tiene literales complementarios? False\n",
      "¿Es una hoja? None\n",
      "Interpretación para literales: {'p': False}\n"
     ]
    }
   ],
   "source": [
    "print('Nodo n:')\n",
    "forms = ['-(p>q)', '(pOq)', '-p']\n",
    "forms = [inorder_to_tree(f) for f in forms]\n",
    "n = nodos_tableaux(forms)\n",
    "print(n)\n",
    "print('')\n",
    "print('¿Tiene literales complementarios?', n.tiene_lit_comp())\n",
    "print('¿Es una hoja?', n.es_hoja())\n",
    "print('Interpretación para literales:', n.interp())"
   ]
  },
  {
   "cell_type": "markdown",
   "metadata": {},
   "source": [
    "El método `expandir` tomará la primera (y única en este caso) fórmula $\\alpha$ y devolvera una lista [`n1`] donde `n1` es el nodo resultado de aplicar la regla:"
   ]
  },
  {
   "cell_type": "code",
   "execution_count": 5,
   "metadata": {},
   "outputs": [
    {
     "data": {
      "text/plain": [
       "[<Logica.nodos_tableaux at 0x220f6216990>]"
      ]
     },
     "execution_count": 5,
     "metadata": {},
     "output_type": "execute_result"
    }
   ],
   "source": [
    "hijos = n.expandir()\n",
    "hijos"
   ]
  },
  {
   "cell_type": "code",
   "execution_count": 6,
   "metadata": {},
   "outputs": [
    {
     "name": "stdout",
     "output_type": "stream",
     "text": [
      "Alfas:[]\n",
      "Betas:['(pOq)']\n",
      "Literales:['-p', 'p', '-q']\n"
     ]
    }
   ],
   "source": [
    "for hijo in hijos:\n",
    "    print(hijo)"
   ]
  },
  {
   "cell_type": "markdown",
   "metadata": {},
   "source": [
    "**Ejercicio 2:**\n",
    "\n",
    "Explanda el hijo de `n` y verifique si los nodos resultado tienen pares complementarios de literales."
   ]
  },
  {
   "cell_type": "code",
   "execution_count": 7,
   "metadata": {},
   "outputs": [
    {
     "name": "stdout",
     "output_type": "stream",
     "text": [
      "Alfas:[]\n",
      "Betas:['(pOq)']\n",
      "Literales:['-p', 'p', '-q']\n",
      "True\n"
     ]
    }
   ],
   "source": [
    "for hijo in hijos:\n",
    "    print(hijo)\n",
    "    print(hijo.tiene_lit_comp())"
   ]
  },
  {
   "cell_type": "markdown",
   "metadata": {},
   "source": [
    "---"
   ]
  },
  {
   "cell_type": "markdown",
   "metadata": {},
   "source": [
    "**Ejercicio 3:**\n",
    "\n",
    "Expanda manualmente (o mediante un while) el siguiente nodo hasta obtener solo una lista de literales y devuelva la interpretación que los hace verdaderos. Observe que todas sus subformulas son de tipo $\\alpha$:"
   ]
  },
  {
   "cell_type": "code",
   "execution_count": 8,
   "metadata": {},
   "outputs": [
    {
     "name": "stdout",
     "output_type": "stream",
     "text": [
      "Alfas:['-(pOq)', '-(r>s)']\n",
      "Betas:[]\n",
      "Literales:[]\n"
     ]
    }
   ],
   "source": [
    "forms = ['--(-(pOq)Y-(r>s))']\n",
    "forms = [inorder_to_tree(f) for f in forms]\n",
    "n = nodos_tableaux(forms)\n",
    "hijos = n.expandir()\n",
    "hijos2 = hijos[0].expandir()\n",
    "for hijo in hijos2:\n",
    "    print(hijo)"
   ]
  },
  {
   "cell_type": "markdown",
   "metadata": {},
   "source": [
    "---"
   ]
  },
  {
   "cell_type": "markdown",
   "metadata": {},
   "source": [
    "# Expansión primero en anchura <a class=\"anchor\" id=\"anchura\"></a>\n",
    "\n",
    "([Volver al inicio](#inicio))\n",
    "\n",
    "Ya tenemos los elementos necesarios para la generación del tableaux, pero necesitamos especificar una manera de ir expandiendo el árbol. Además de la opción de expandirlo de manera aleatoria -- seleccionando aleatoriamente un nodo que no sea una hoja -- tenemos tres opciones. En esta sección examinaremos la expansión primero en anchura. El pseudocódigo del algoritmo es el siguiente:\n",
    "\n",
    "<img src=\"./img/anchura.png\" width=\"350px\"/>\n",
    "\n",
    "La implementación en Python es la siguiente:"
   ]
  },
  {
   "cell_type": "code",
   "execution_count": 9,
   "metadata": {},
   "outputs": [],
   "source": [
    "def primero_anchura(nodo):\n",
    "    estado = nodo\n",
    "    res = estado.es_hoja()\n",
    "    if res == 'cerrada':\n",
    "        return None\n",
    "    elif res == 'abierta':\n",
    "        return estado.interp()\n",
    "    frontera = [estado]\n",
    "    while len(frontera) > 0:\n",
    "        estado = frontera.pop(0) \n",
    "        hijos = estado.expandir()\n",
    "        for a in hijos:\n",
    "            res = a.es_hoja()\n",
    "            if res == 'abierta':\n",
    "                return a.interp()\n",
    "            elif res == None:\n",
    "                frontera.append(a)\n",
    "    return None"
   ]
  },
  {
   "cell_type": "markdown",
   "metadata": {},
   "source": [
    "Podemos usar esta función para expandir el nodo del ejercicio 3:"
   ]
  },
  {
   "cell_type": "code",
   "execution_count": 10,
   "metadata": {},
   "outputs": [
    {
     "name": "stdout",
     "output_type": "stream",
     "text": [
      "Resultado: {'p': False, 'q': False, 'r': True, 's': False}\n"
     ]
    }
   ],
   "source": [
    "forms = ['--(-(pOq)Y-(r>s))']\n",
    "forms = [inorder_to_tree(f) for f in forms]\n",
    "n = nodos_tableaux(forms)\n",
    "I = primero_anchura(n)\n",
    "print(\"Resultado:\", I)"
   ]
  },
  {
   "cell_type": "markdown",
   "metadata": {},
   "source": [
    "**Ejercicio 4:**\n",
    "\n",
    "Expanda el nodo correspondiente a la siguiente fórmula:\n",
    "\n",
    "'(((pYq)O(rOq))Y(-qO-p))'\n",
    "\n",
    "Debe obtener la siguiente interpretación:\n",
    "\n",
    "Resultado: {'q': False, 'r': True}"
   ]
  },
  {
   "cell_type": "code",
   "execution_count": 11,
   "metadata": {},
   "outputs": [
    {
     "name": "stdout",
     "output_type": "stream",
     "text": [
      "Resultado: {'q': False, 'r': True}\n"
     ]
    }
   ],
   "source": [
    "forms = ['(((pYq)O(rOq))Y(-qO-p))']\n",
    "forms = [inorder_to_tree(f) for f in forms]\n",
    "n = nodos_tableaux(forms)\n",
    "I = primero_anchura(n)\n",
    "print(\"Resultado:\", I)"
   ]
  },
  {
   "cell_type": "markdown",
   "metadata": {},
   "source": [
    "---"
   ]
  },
  {
   "cell_type": "markdown",
   "metadata": {},
   "source": [
    "# Expansión primero en profundidad <a class=\"anchor\" id=\"prof\"></a>\n",
    "\n",
    "([Volver al inicio](#inicio))\n",
    "\n",
    "Además de poder expandir primero en anchura, podemos expandir primero en profundidad. El pseudocódigo de este algoritmo es el siguiente:\n",
    "\n",
    "<img src=\"./img/profundidad.png\" width=\"350px\"/>"
   ]
  },
  {
   "cell_type": "code",
   "execution_count": 12,
   "metadata": {},
   "outputs": [],
   "source": [
    "def primero_profundidad(nodo):\n",
    "    estado = nodo\n",
    "    res = estado.es_hoja()\n",
    "    if res == 'cerrada':\n",
    "        return None\n",
    "    elif res == 'abierta':\n",
    "        return estado.interp()\n",
    "    frontera = [estado]\n",
    "    while len(frontera) > 0:\n",
    "        estado = frontera.pop() \n",
    "        hijos = estado.expandir()\n",
    "        for a in hijos:\n",
    "            res = a.es_hoja()\n",
    "            if res == 'abierta':\n",
    "                return a.interp()\n",
    "            elif res == None:\n",
    "                frontera.append(a)\n",
    "    return None"
   ]
  },
  {
   "cell_type": "markdown",
   "metadata": {},
   "source": [
    "**Ejercicio 5:**\n",
    "\n",
    "Implemente la función `primero_profundidad` y expanda los nodos para las siguientes fórmulas:\n",
    "\n",
    "* '--(-(pOq)Y-(r>s))'\n",
    "* '(((pYq)O(rOq))Y(-qO-p))'\n",
    "\n",
    "Las soluciones deben ser las siguientes:\n",
    "\n",
    "* Resultado: {'p': False, 'q': False, 'r': True, 's': False}\n",
    "* Resultado: {'p': False, 'r': True}"
   ]
  },
  {
   "cell_type": "code",
   "execution_count": 13,
   "metadata": {},
   "outputs": [
    {
     "name": "stdout",
     "output_type": "stream",
     "text": [
      "Resultado: {'p': False, 'q': False, 'r': True, 's': False}\n"
     ]
    }
   ],
   "source": [
    "forms = ['--(-(pOq)Y-(r>s))']\n",
    "forms = [inorder_to_tree(f) for f in forms]\n",
    "n = nodos_tableaux(forms)\n",
    "I = primero_profundidad(n)\n",
    "print(\"Resultado:\", I)"
   ]
  },
  {
   "cell_type": "code",
   "execution_count": 14,
   "metadata": {},
   "outputs": [
    {
     "name": "stdout",
     "output_type": "stream",
     "text": [
      "Resultado: {'p': False, 'r': True}\n"
     ]
    }
   ],
   "source": [
    "forms = ['(((pYq)O(rOq))Y(-qO-p))']\n",
    "forms = [inorder_to_tree(f) for f in forms]\n",
    "n = nodos_tableaux(forms)\n",
    "I = primero_profundidad(n)\n",
    "print(\"Resultado:\", I)"
   ]
  },
  {
   "cell_type": "markdown",
   "metadata": {},
   "source": [
    "---"
   ]
  },
  {
   "cell_type": "markdown",
   "metadata": {},
   "source": [
    "# Recorrido con backtracking <a class=\"anchor\" id=\"backt\"></a>\n",
    "\n",
    "([Volver al inicio](#inicio))\n",
    "\n",
    "Podemos hacer también un recorrido por el árbol haciendo una expansión recursiva que implementa el backtracking, como en el siguiente pseudocódigo:\n",
    "\n",
    "<img src=\"./img/backtracking.png\" width=\"350px\"/>"
   ]
  },
  {
   "cell_type": "code",
   "execution_count": 15,
   "metadata": {},
   "outputs": [],
   "source": [
    "def backtracking(nodo):\n",
    "    estado = nodo\n",
    "    res = estado.es_hoja()\n",
    "    if res == 'cerrada':\n",
    "        return None\n",
    "    elif res == 'abierta':\n",
    "        return estado.interp()\n",
    "    for hijo in estado.expandir():\n",
    "        resultado = backtracking(hijo)\n",
    "        if resultado != None:\n",
    "            return resultado\n",
    "    return None"
   ]
  },
  {
   "cell_type": "markdown",
   "metadata": {},
   "source": [
    "**Ejercicio 6:**\n",
    "\n",
    "Implemente la función `backtracking` y expanda los nodos para las siguientes fórmulas:\n",
    "\n",
    "* '--(-(pOq)Y-(r>s))'\n",
    "* '(((pYq)O(rOq))Y(-qO-p))'\n",
    "\n",
    "Las soluciones deben ser las siguientes:\n",
    "\n",
    "* Resultado: {'p': False, 'q': False, 'r': True, 's': False}\n",
    "* Resultado: {'q': False, 'r': True}"
   ]
  },
  {
   "cell_type": "code",
   "execution_count": 16,
   "metadata": {},
   "outputs": [
    {
     "name": "stdout",
     "output_type": "stream",
     "text": [
      "Resultado: {'p': False, 'q': False, 'r': True, 's': False}\n"
     ]
    }
   ],
   "source": [
    "forms = ['--(-(pOq)Y-(r>s))']\n",
    "forms = [inorder_to_tree(f) for f in forms]\n",
    "n = nodos_tableaux(forms)\n",
    "I = backtracking(n)\n",
    "print(\"Resultado:\", I)"
   ]
  },
  {
   "cell_type": "code",
   "execution_count": 17,
   "metadata": {},
   "outputs": [
    {
     "name": "stdout",
     "output_type": "stream",
     "text": [
      "Resultado: {'q': False, 'r': True}\n"
     ]
    }
   ],
   "source": [
    "forms = ['(((pYq)O(rOq))Y(-qO-p))']\n",
    "forms = [inorder_to_tree(f) for f in forms]\n",
    "n = nodos_tableaux(forms)\n",
    "I = backtracking(n)\n",
    "print(\"Resultado:\", I)"
   ]
  },
  {
   "cell_type": "code",
   "execution_count": 18,
   "metadata": {},
   "outputs": [],
   "source": [
    "import numpy as np\n",
    "\n",
    "class Descriptor :\n",
    "\n",
    "    '''\n",
    "    Codifica un descriptor de N argumentos mediante un solo caracter\n",
    "    Input:  args_lista, lista con el total de opciones para cada\n",
    "                     argumento del descriptor\n",
    "            chrInit, entero que determina el comienzo de la codificación chr()\n",
    "    Output: str de longitud 1\n",
    "    '''\n",
    "\n",
    "    def __init__ (self,args_lista,chrInit=256) -> None:\n",
    "        self.args_lista = args_lista\n",
    "        assert(len(args_lista) > 0), \"Debe haber por lo menos un argumento\"\n",
    "        self.chrInit = chrInit\n",
    "        self.rango = [chrInit, chrInit + np.prod(self.args_lista)]\n",
    "\n",
    "    def check_lista_valores(self,lista_valores: List[int]) -> None:\n",
    "        for i, v in enumerate(lista_valores) :\n",
    "            assert(v >= 0), \"Valores deben ser no negativos\"\n",
    "            assert(v < self.args_lista[i]), f\"Valor debe ser menor o igual a {self.args_lista[i]}\"\n",
    "\n",
    "    def codifica(self,lista_valores: List[int]) -> int:\n",
    "        self.check_lista_valores(lista_valores)\n",
    "        cod = lista_valores[0]\n",
    "        n_columnas = 1\n",
    "        for i in range(0, len(lista_valores) - 1) :\n",
    "            n_columnas = n_columnas * self.args_lista[i]\n",
    "            cod = n_columnas * lista_valores[i+1] + cod\n",
    "        return cod\n",
    "\n",
    "    def decodifica(self,n: int) -> int:\n",
    "        decods = []\n",
    "        if len(self.args_lista) > 1:\n",
    "            for i in range(0, len(self.args_lista) - 1) :\n",
    "                n_columnas = np.prod(self.args_lista[:-(i+1)])\n",
    "                decods.insert(0, int(n / n_columnas))\n",
    "                n = n % n_columnas\n",
    "        decods.insert(0, n % self.args_lista[0])\n",
    "        return decods\n",
    "\n",
    "    def ravel(self,lista_valores: List[int]) -> chr:\n",
    "        codigo = self.codifica(lista_valores)\n",
    "        return chr(self.chrInit+codigo)\n",
    "\n",
    "    def unravel(self,codigo: chr) -> int:\n",
    "        n = ord(codigo)-self.chrInit\n",
    "        return self.decodifica(n)\n",
    "    \n",
    "    def escribir(self, literal: chr) -> str:\n",
    "        if '-' in literal:\n",
    "            atomo = literal[1:]\n",
    "            neg = ' no'\n",
    "        else:\n",
    "            atomo = literal\n",
    "            neg = ''\n",
    "        n, r, c  = self.unravel(atomo)\n",
    "        return f\"PREDICADO({n, r, c})\"        \n",
    "    \n",
    "    \n",
    "\n",
    "def visualizar_formula(A: Formula, D: Descriptor) -> str:\n",
    "    '''\n",
    "    Visualiza una fórmula A (como string en notación inorder) usando el descriptor D\n",
    "    '''\n",
    "    vis = []\n",
    "    for c in A:\n",
    "        if c == '-':\n",
    "            vis.append(' no ')\n",
    "        elif c in ['(', ')']:\n",
    "            vis.append(c)\n",
    "        elif c in ['>', 'Y', 'O']:\n",
    "            vis.append(' ' + c + ' ')\n",
    "        elif c == '=':\n",
    "            vis.append(' sii ')\n",
    "        else:\n",
    "            try:\n",
    "                vis.append(D.escribir(c))\n",
    "            except:\n",
    "                raise(\"¡Caracter inválido!\")\n",
    "    return ''.join(vis)"
   ]
  },
  {
   "cell_type": "markdown",
   "metadata": {},
   "source": [
    "# Quiz"
   ]
  },
  {
   "cell_type": "code",
   "execution_count": 19,
   "metadata": {},
   "outputs": [],
   "source": [
    "Nx = 4\n",
    "Ny = 4\n",
    "Nn = Nx * Ny\n",
    "Nf = 3\n",
    "X = list(range(Nx))\n",
    "Y = list(range(Ny))\n",
    "F = list(range(Nf))\n",
    "nombres_F = {0: 'tr', 1: 'cu', 2: 'ci'}\n",
    "\n",
    "casillas = list(range(Nn))\n",
    "FichaEn = Descriptor([Nx, Ny, Nf])"
   ]
  },
  {
   "cell_type": "code",
   "execution_count": 20,
   "metadata": {
    "scrolled": true
   },
   "outputs": [
    {
     "name": "stdout",
     "output_type": "stream",
     "text": [
      "Cantidad de átomos FichaEn: 48\n",
      "Caracteres correspondientes a los átomos OenCasilla:\n",
      "\n",
      "Que la figura tr está en la casilla (0,0) es el átomo Ā\n",
      "Que la figura cu está en la casilla (0,0) es el átomo Đ\n",
      "Que la figura ci está en la casilla (0,0) es el átomo Ġ\n",
      "Que la figura tr está en la casilla (0,1) es el átomo Ą\n",
      "Que la figura cu está en la casilla (0,1) es el átomo Ĕ\n",
      "Que la figura ci está en la casilla (0,1) es el átomo Ĥ\n",
      "Que la figura tr está en la casilla (0,2) es el átomo Ĉ\n",
      "Que la figura cu está en la casilla (0,2) es el átomo Ę\n",
      "Que la figura ci está en la casilla (0,2) es el átomo Ĩ\n",
      "Que la figura tr está en la casilla (0,3) es el átomo Č\n",
      "Que la figura cu está en la casilla (0,3) es el átomo Ĝ\n",
      "Que la figura ci está en la casilla (0,3) es el átomo Ĭ\n",
      "\n",
      "Que la figura tr está en la casilla (1,0) es el átomo ā\n",
      "Que la figura cu está en la casilla (1,0) es el átomo đ\n",
      "Que la figura ci está en la casilla (1,0) es el átomo ġ\n",
      "Que la figura tr está en la casilla (1,1) es el átomo ą\n",
      "Que la figura cu está en la casilla (1,1) es el átomo ĕ\n",
      "Que la figura ci está en la casilla (1,1) es el átomo ĥ\n",
      "Que la figura tr está en la casilla (1,2) es el átomo ĉ\n",
      "Que la figura cu está en la casilla (1,2) es el átomo ę\n",
      "Que la figura ci está en la casilla (1,2) es el átomo ĩ\n",
      "Que la figura tr está en la casilla (1,3) es el átomo č\n",
      "Que la figura cu está en la casilla (1,3) es el átomo ĝ\n",
      "Que la figura ci está en la casilla (1,3) es el átomo ĭ\n",
      "\n",
      "Que la figura tr está en la casilla (2,0) es el átomo Ă\n",
      "Que la figura cu está en la casilla (2,0) es el átomo Ē\n",
      "Que la figura ci está en la casilla (2,0) es el átomo Ģ\n",
      "Que la figura tr está en la casilla (2,1) es el átomo Ć\n",
      "Que la figura cu está en la casilla (2,1) es el átomo Ė\n",
      "Que la figura ci está en la casilla (2,1) es el átomo Ħ\n",
      "Que la figura tr está en la casilla (2,2) es el átomo Ċ\n",
      "Que la figura cu está en la casilla (2,2) es el átomo Ě\n",
      "Que la figura ci está en la casilla (2,2) es el átomo Ī\n",
      "Que la figura tr está en la casilla (2,3) es el átomo Ď\n",
      "Que la figura cu está en la casilla (2,3) es el átomo Ğ\n",
      "Que la figura ci está en la casilla (2,3) es el átomo Į\n",
      "\n",
      "Que la figura tr está en la casilla (3,0) es el átomo ă\n",
      "Que la figura cu está en la casilla (3,0) es el átomo ē\n",
      "Que la figura ci está en la casilla (3,0) es el átomo ģ\n",
      "Que la figura tr está en la casilla (3,1) es el átomo ć\n",
      "Que la figura cu está en la casilla (3,1) es el átomo ė\n",
      "Que la figura ci está en la casilla (3,1) es el átomo ħ\n",
      "Que la figura tr está en la casilla (3,2) es el átomo ċ\n",
      "Que la figura cu está en la casilla (3,2) es el átomo ě\n",
      "Que la figura ci está en la casilla (3,2) es el átomo ī\n",
      "Que la figura tr está en la casilla (3,3) es el átomo ď\n",
      "Que la figura cu está en la casilla (3,3) es el átomo ğ\n",
      "Que la figura ci está en la casilla (3,3) es el átomo į\n",
      "\n"
     ]
    }
   ],
   "source": [
    "print(\"Cantidad de átomos FichaEn:\", FichaEn.rango[1] - FichaEn.rango[0])\n",
    "print(\"Caracteres correspondientes a los átomos OenCasilla:\\n\")\n",
    "for x in range(Nx):\n",
    "    for y in range(Ny):\n",
    "        for f in range(Nf):\n",
    "            atomo = FichaEn.ravel([x,y,f])\n",
    "            print(f\"Que la figura {nombres_F[f]} está en la casilla ({X[x]},{Y[y]}) es el átomo {atomo}\")\n",
    "    print(\"\")"
   ]
  },
  {
   "cell_type": "markdown",
   "metadata": {},
   "source": [
    "## Restricción 4\n",
    "No puede repetirse la misma figura en una fila.\n",
    "\n",
    "$$\\bigwedge_{x \\in X}\\bigwedge_{y \\in Y}\\bigwedge_{f \\in F} (FichaEn(x, y, f) \\rightarrow \\neg ( \\bigvee_{c \\in X - \\{x\\}} FichaEn(c,y,f)))$$"
   ]
  },
  {
   "cell_type": "code",
   "execution_count": 21,
   "metadata": {},
   "outputs": [
    {
     "name": "stdout",
     "output_type": "stream",
     "text": [
      "=== Implementación de Restricción 4 ===\n",
      "((((((((((((((((((PREDICADO((np.int64(0), 0, 0)) >  no ((PREDICADO((np.int64(1), 0, 0)) O PREDICADO((np.int64(2), 0, 0))) O PREDICADO((np.int64(3), 0, 0)))) Y (PREDICADO((np.int64(0), 0, 1)) >  no ((PREDICADO((np.int64(1), 0, 1)) O PREDICADO((np.int64(2), 0, 1))) O PREDICADO((np.int64(3), 0, 1))))) Y (PREDICADO((np.int64(0), 0, 2)) >  no ((PREDICADO((np.int64(1), 0, 2)) O PREDICADO((np.int64(2), 0, 2))) O PREDICADO((np.int64(3), 0, 2))))) Y (((PREDICADO((np.int64(0), 1, 0)) >  no ((PREDICADO((np.int64(1), 1, 0)) O PREDICADO((np.int64(2), 1, 0))) O PREDICADO((np.int64(3), 1, 0)))) Y (PREDICADO((np.int64(0), 1, 1)) >  no ((PREDICADO((np.int64(1), 1, 1)) O PREDICADO((np.int64(2), 1, 1))) O PREDICADO((np.int64(3), 1, 1))))) Y (PREDICADO((np.int64(0), 1, 2)) >  no ((PREDICADO((np.int64(1), 1, 2)) O PREDICADO((np.int64(2), 1, 2))) O PREDICADO((np.int64(3), 1, 2)))))) Y (((PREDICADO((np.int64(0), 2, 0)) >  no ((PREDICADO((np.int64(1), 2, 0)) O PREDICADO((np.int64(2), 2, 0))) O PREDICADO((np.int64(3), 2, 0)))) Y (PREDICADO((np.int64(0), 2, 1)) >  no ((PREDICADO((np.int64(1), 2, 1)) O PREDICADO((np.int64(2), 2, 1))) O PREDICADO((np.int64(3), 2, 1))))) Y (PREDICADO((np.int64(0), 2, 2)) >  no ((PREDICADO((np.int64(1), 2, 2)) O PREDICADO((np.int64(2), 2, 2))) O PREDICADO((np.int64(3), 2, 2)))))) Y (((PREDICADO((np.int64(0), 3, 0)) >  no ((PREDICADO((np.int64(1), 3, 0)) O PREDICADO((np.int64(2), 3, 0))) O PREDICADO((np.int64(3), 3, 0)))) Y (PREDICADO((np.int64(0), 3, 1)) >  no ((PREDICADO((np.int64(1), 3, 1)) O PREDICADO((np.int64(2), 3, 1))) O PREDICADO((np.int64(3), 3, 1))))) Y (PREDICADO((np.int64(0), 3, 2)) >  no ((PREDICADO((np.int64(1), 3, 2)) O PREDICADO((np.int64(2), 3, 2))) O PREDICADO((np.int64(3), 3, 2)))))) Y (((PREDICADO((np.int64(1), 0, 0)) >  no ((PREDICADO((np.int64(0), 0, 0)) O PREDICADO((np.int64(2), 0, 0))) O PREDICADO((np.int64(3), 0, 0)))) Y (PREDICADO((np.int64(1), 0, 1)) >  no ((PREDICADO((np.int64(0), 0, 1)) O PREDICADO((np.int64(2), 0, 1))) O PREDICADO((np.int64(3), 0, 1))))) Y (PREDICADO((np.int64(1), 0, 2)) >  no ((PREDICADO((np.int64(0), 0, 2)) O PREDICADO((np.int64(2), 0, 2))) O PREDICADO((np.int64(3), 0, 2)))))) Y (((PREDICADO((np.int64(1), 1, 0)) >  no ((PREDICADO((np.int64(0), 1, 0)) O PREDICADO((np.int64(2), 1, 0))) O PREDICADO((np.int64(3), 1, 0)))) Y (PREDICADO((np.int64(1), 1, 1)) >  no ((PREDICADO((np.int64(0), 1, 1)) O PREDICADO((np.int64(2), 1, 1))) O PREDICADO((np.int64(3), 1, 1))))) Y (PREDICADO((np.int64(1), 1, 2)) >  no ((PREDICADO((np.int64(0), 1, 2)) O PREDICADO((np.int64(2), 1, 2))) O PREDICADO((np.int64(3), 1, 2)))))) Y (((PREDICADO((np.int64(1), 2, 0)) >  no ((PREDICADO((np.int64(0), 2, 0)) O PREDICADO((np.int64(2), 2, 0))) O PREDICADO((np.int64(3), 2, 0)))) Y (PREDICADO((np.int64(1), 2, 1)) >  no ((PREDICADO((np.int64(0), 2, 1)) O PREDICADO((np.int64(2), 2, 1))) O PREDICADO((np.int64(3), 2, 1))))) Y (PREDICADO((np.int64(1), 2, 2)) >  no ((PREDICADO((np.int64(0), 2, 2)) O PREDICADO((np.int64(2), 2, 2))) O PREDICADO((np.int64(3), 2, 2)))))) Y (((PREDICADO((np.int64(1), 3, 0)) >  no ((PREDICADO((np.int64(0), 3, 0)) O PREDICADO((np.int64(2), 3, 0))) O PREDICADO((np.int64(3), 3, 0)))) Y (PREDICADO((np.int64(1), 3, 1)) >  no ((PREDICADO((np.int64(0), 3, 1)) O PREDICADO((np.int64(2), 3, 1))) O PREDICADO((np.int64(3), 3, 1))))) Y (PREDICADO((np.int64(1), 3, 2)) >  no ((PREDICADO((np.int64(0), 3, 2)) O PREDICADO((np.int64(2), 3, 2))) O PREDICADO((np.int64(3), 3, 2)))))) Y (((PREDICADO((np.int64(2), 0, 0)) >  no ((PREDICADO((np.int64(0), 0, 0)) O PREDICADO((np.int64(1), 0, 0))) O PREDICADO((np.int64(3), 0, 0)))) Y (PREDICADO((np.int64(2), 0, 1)) >  no ((PREDICADO((np.int64(0), 0, 1)) O PREDICADO((np.int64(1), 0, 1))) O PREDICADO((np.int64(3), 0, 1))))) Y (PREDICADO((np.int64(2), 0, 2)) >  no ((PREDICADO((np.int64(0), 0, 2)) O PREDICADO((np.int64(1), 0, 2))) O PREDICADO((np.int64(3), 0, 2)))))) Y (((PREDICADO((np.int64(2), 1, 0)) >  no ((PREDICADO((np.int64(0), 1, 0)) O PREDICADO((np.int64(1), 1, 0))) O PREDICADO((np.int64(3), 1, 0)))) Y (PREDICADO((np.int64(2), 1, 1)) >  no ((PREDICADO((np.int64(0), 1, 1)) O PREDICADO((np.int64(1), 1, 1))) O PREDICADO((np.int64(3), 1, 1))))) Y (PREDICADO((np.int64(2), 1, 2)) >  no ((PREDICADO((np.int64(0), 1, 2)) O PREDICADO((np.int64(1), 1, 2))) O PREDICADO((np.int64(3), 1, 2)))))) Y (((PREDICADO((np.int64(2), 2, 0)) >  no ((PREDICADO((np.int64(0), 2, 0)) O PREDICADO((np.int64(1), 2, 0))) O PREDICADO((np.int64(3), 2, 0)))) Y (PREDICADO((np.int64(2), 2, 1)) >  no ((PREDICADO((np.int64(0), 2, 1)) O PREDICADO((np.int64(1), 2, 1))) O PREDICADO((np.int64(3), 2, 1))))) Y (PREDICADO((np.int64(2), 2, 2)) >  no ((PREDICADO((np.int64(0), 2, 2)) O PREDICADO((np.int64(1), 2, 2))) O PREDICADO((np.int64(3), 2, 2)))))) Y (((PREDICADO((np.int64(2), 3, 0)) >  no ((PREDICADO((np.int64(0), 3, 0)) O PREDICADO((np.int64(1), 3, 0))) O PREDICADO((np.int64(3), 3, 0)))) Y (PREDICADO((np.int64(2), 3, 1)) >  no ((PREDICADO((np.int64(0), 3, 1)) O PREDICADO((np.int64(1), 3, 1))) O PREDICADO((np.int64(3), 3, 1))))) Y (PREDICADO((np.int64(2), 3, 2)) >  no ((PREDICADO((np.int64(0), 3, 2)) O PREDICADO((np.int64(1), 3, 2))) O PREDICADO((np.int64(3), 3, 2)))))) Y (((PREDICADO((np.int64(3), 0, 0)) >  no ((PREDICADO((np.int64(0), 0, 0)) O PREDICADO((np.int64(1), 0, 0))) O PREDICADO((np.int64(2), 0, 0)))) Y (PREDICADO((np.int64(3), 0, 1)) >  no ((PREDICADO((np.int64(0), 0, 1)) O PREDICADO((np.int64(1), 0, 1))) O PREDICADO((np.int64(2), 0, 1))))) Y (PREDICADO((np.int64(3), 0, 2)) >  no ((PREDICADO((np.int64(0), 0, 2)) O PREDICADO((np.int64(1), 0, 2))) O PREDICADO((np.int64(2), 0, 2)))))) Y (((PREDICADO((np.int64(3), 1, 0)) >  no ((PREDICADO((np.int64(0), 1, 0)) O PREDICADO((np.int64(1), 1, 0))) O PREDICADO((np.int64(2), 1, 0)))) Y (PREDICADO((np.int64(3), 1, 1)) >  no ((PREDICADO((np.int64(0), 1, 1)) O PREDICADO((np.int64(1), 1, 1))) O PREDICADO((np.int64(2), 1, 1))))) Y (PREDICADO((np.int64(3), 1, 2)) >  no ((PREDICADO((np.int64(0), 1, 2)) O PREDICADO((np.int64(1), 1, 2))) O PREDICADO((np.int64(2), 1, 2)))))) Y (((PREDICADO((np.int64(3), 2, 0)) >  no ((PREDICADO((np.int64(0), 2, 0)) O PREDICADO((np.int64(1), 2, 0))) O PREDICADO((np.int64(2), 2, 0)))) Y (PREDICADO((np.int64(3), 2, 1)) >  no ((PREDICADO((np.int64(0), 2, 1)) O PREDICADO((np.int64(1), 2, 1))) O PREDICADO((np.int64(2), 2, 1))))) Y (PREDICADO((np.int64(3), 2, 2)) >  no ((PREDICADO((np.int64(0), 2, 2)) O PREDICADO((np.int64(1), 2, 2))) O PREDICADO((np.int64(2), 2, 2)))))) Y (((PREDICADO((np.int64(3), 3, 0)) >  no ((PREDICADO((np.int64(0), 3, 0)) O PREDICADO((np.int64(1), 3, 0))) O PREDICADO((np.int64(2), 3, 0)))) Y (PREDICADO((np.int64(3), 3, 1)) >  no ((PREDICADO((np.int64(0), 3, 1)) O PREDICADO((np.int64(1), 3, 1))) O PREDICADO((np.int64(2), 3, 1))))) Y (PREDICADO((np.int64(3), 3, 2)) >  no ((PREDICADO((np.int64(0), 3, 2)) O PREDICADO((np.int64(1), 3, 2))) O PREDICADO((np.int64(2), 3, 2))))))\n"
     ]
    }
   ],
   "source": [
    "print(\"=== Implementación de Restricción 4 ===\")\n",
    "\n",
    "inicial3 = True\n",
    "final = ''\n",
    "for x in X:\n",
    "    for y in Y:\n",
    "        inicial2 = True\n",
    "        formula2 = ''\n",
    "        for f in F:  # ahora F = [0,1,2]\n",
    "            formula1 = ''\n",
    "            inicial = True\n",
    "            otras_columnas = [c for c in X if c != x]\n",
    "            for c in otras_columnas:\n",
    "                if inicial:\n",
    "                    formula1 = FichaEn.ravel([c, y, f])\n",
    "                    inicial = False\n",
    "                else:\n",
    "                    formula1 = \"(\" + formula1 + \"O\" + FichaEn.ravel([c, y, f]) + \")\"\n",
    "            # implicación con negación\n",
    "            f1 = \"(\" + FichaEn.ravel([x, y, f]) + \">-\" + formula1 + \")\"\n",
    "            if inicial2:\n",
    "                formula2 = f1\n",
    "                inicial2 = False\n",
    "            else:\n",
    "                formula2 = \"(\" + formula2 + \"Y\" + f1 + \")\"\n",
    "        if inicial3:\n",
    "            final = formula2\n",
    "            inicial3 = False\n",
    "        else:\n",
    "            final = \"(\" + final + \"Y\" + formula2 + \")\"\n",
    "\n",
    "print(visualizar_formula(final, FichaEn))\n"
   ]
  },
  {
   "cell_type": "code",
   "execution_count": 22,
   "metadata": {},
   "outputs": [
    {
     "name": "stdout",
     "output_type": "stream",
     "text": [
      "((((((((((((((((((Ā>-((āOĂ)Oă))Y(Đ>-((đOĒ)Oē)))Y(Ġ>-((ġOĢ)Oģ)))Y(((Ą>-((ąOĆ)Oć))Y(Ĕ>-((ĕOĖ)Oė)))Y(Ĥ>-((ĥOĦ)Oħ))))Y(((Ĉ>-((ĉOĊ)Oċ))Y(Ę>-((ęOĚ)Oě)))Y(Ĩ>-((ĩOĪ)Oī))))Y(((Č>-((čOĎ)Oď))Y(Ĝ>-((ĝOĞ)Oğ)))Y(Ĭ>-((ĭOĮ)Oį))))Y(((ā>-((ĀOĂ)Oă))Y(đ>-((ĐOĒ)Oē)))Y(ġ>-((ĠOĢ)Oģ))))Y(((ą>-((ĄOĆ)Oć))Y(ĕ>-((ĔOĖ)Oė)))Y(ĥ>-((ĤOĦ)Oħ))))Y(((ĉ>-((ĈOĊ)Oċ))Y(ę>-((ĘOĚ)Oě)))Y(ĩ>-((ĨOĪ)Oī))))Y(((č>-((ČOĎ)Oď))Y(ĝ>-((ĜOĞ)Oğ)))Y(ĭ>-((ĬOĮ)Oį))))Y(((Ă>-((ĀOā)Oă))Y(Ē>-((ĐOđ)Oē)))Y(Ģ>-((ĠOġ)Oģ))))Y(((Ć>-((ĄOą)Oć))Y(Ė>-((ĔOĕ)Oė)))Y(Ħ>-((ĤOĥ)Oħ))))Y(((Ċ>-((ĈOĉ)Oċ))Y(Ě>-((ĘOę)Oě)))Y(Ī>-((ĨOĩ)Oī))))Y(((Ď>-((ČOč)Oď))Y(Ğ>-((ĜOĝ)Oğ)))Y(Į>-((ĬOĭ)Oį))))Y(((ă>-((ĀOā)OĂ))Y(ē>-((ĐOđ)OĒ)))Y(ģ>-((ĠOġ)OĢ))))Y(((ć>-((ĄOą)OĆ))Y(ė>-((ĔOĕ)OĖ)))Y(ħ>-((ĤOĥ)OĦ))))Y(((ċ>-((ĈOĉ)OĊ))Y(ě>-((ĘOę)OĚ)))Y(ī>-((ĨOĩ)OĪ))))Y(((ď>-((ČOč)OĎ))Y(ğ>-((ĜOĝ)OĞ)))Y(į>-((ĬOĭ)OĮ))))\n"
     ]
    }
   ],
   "source": [
    "print(final)"
   ]
  },
  {
   "cell_type": "code",
   "execution_count": 23,
   "metadata": {},
   "outputs": [
    {
     "name": "stdout",
     "output_type": "stream",
     "text": [
      "Total de partes individuales: 48\n"
     ]
    }
   ],
   "source": [
    "# Todas las partes individuales de la fórmula completa\n",
    "partes_formula = [\n",
    "    # Primer nivel - Conjunciones principales\n",
    "    '(Ā>-(((āOĂ)Oă)))',\n",
    "    '(Đ>-(((đOĒ)Oē)))', \n",
    "    '(Ġ>-(((ġOĢ)Oģ)))',\n",
    "    '(Ą>-(((ąOĆ)Oć)))',\n",
    "    '(Ĕ>-(((ĕOĖ)Oė)))',\n",
    "    '(Ĥ>-(((ĥOĦ)Oħ)))',\n",
    "    '(Ĉ>-(((ĉOĊ)Oċ)))',\n",
    "    '(Ę>-(((ęOĚ)Oě)))',\n",
    "    '(Ĩ>-(((ĩOĪ)Oī)))',\n",
    "    '(Č>-(((čOĎ)Oď)))',\n",
    "    '(Ĝ>-(((ĝOĞ)Oğ)))',\n",
    "    '(Ĭ>-(((ĭOĮ)Oį)))',\n",
    "    '(ā>-(((ĀOĂ)Oă)))',\n",
    "    '(đ>-(((ĐOĒ)Oē)))',\n",
    "    '(ġ>-(((ĠOĢ)Oģ)))',\n",
    "    '(ą>-(((ĄOĆ)Oć)))',\n",
    "    '(ĕ>-(((ĔOĖ)Oė)))',\n",
    "    '(ĥ>-(((ĤOĦ)Oħ)))',\n",
    "    '(ĉ>-(((ĈOĊ)Oċ)))',\n",
    "    '(ę>-(((ĘOĚ)Oě)))',\n",
    "    '(ĩ>-(((ĨOĪ)Oī)))',\n",
    "    '(č>-(((ČOĎ)Oď)))',\n",
    "    '(ĝ>-(((ĜOĞ)Oğ)))',\n",
    "    '(ĭ>-(((ĬOĮ)Oį)))',\n",
    "    '(Ă>-(((ĀOā)Oă)))',\n",
    "    '(Ē>-(((ĐOđ)Oē)))',\n",
    "    '(Ģ>-(((ĠOġ)Oģ)))',\n",
    "    '(Ć>-(((ĄOą)Oć)))',\n",
    "    '(Ė>-(((ĔOĕ)Oė)))',\n",
    "    '(Ħ>-(((ĤOĥ)Oħ)))',\n",
    "    '(Ċ>-(((ĈOĉ)Oċ)))',\n",
    "    '(Ě>-(((ĘOę)Oě)))',\n",
    "    '(Ī>-(((ĨOĩ)Oī)))',\n",
    "    '(Ď>-(((ČOč)Oď)))',\n",
    "    '(Ğ>-(((ĜOĝ)Oğ)))',\n",
    "    '(Į>-(((ĬOĭ)Oį)))',\n",
    "    '(ă>-(((ĀOā)OĂ)))',\n",
    "    '(ē>-(((ĐOđ)OĒ)))',\n",
    "    '(ģ>-(((ĠOġ)OĢ)))',\n",
    "    '(ć>-(((ĄOą)OĆ)))',\n",
    "    '(ė>-(((ĔOĕ)OĖ)))',\n",
    "    '(ħ>-(((ĤOĥ)OĦ)))',\n",
    "    '(ċ>-(((ĈOĉ)OĊ)))',\n",
    "    '(ě>-(((ĘOę)OĚ)))',\n",
    "    '(ī>-(((ĨOĩ)OĪ)))',\n",
    "    '(ď>-(((ČOč)OĎ)))',\n",
    "    '(ğ>-(((ĜOĝ)OĞ)))',\n",
    "    '(į>-(((ĬOĭ)OĮ)))'\n",
    "]\n",
    "\n",
    "print(f\"Total de partes individuales: {len(partes_formula)}\")"
   ]
  },
  {
   "cell_type": "code",
   "execution_count": 24,
   "metadata": {},
   "outputs": [
    {
     "name": "stdout",
     "output_type": "stream",
     "text": [
      "=== DIAGNÓSTICO DE EXPANSIÓN PROGRESIVA ===\n",
      "\n",
      "Probando nivel 1: 1 partes\n",
      "Fórmula (primeros 100 chars): (Ā>-(((āOĂ)Oă)))...\n",
      "  ✓ Árbol creado\n",
      "  ✓ Nodo creado - Alfas: 0, Betas: 1, Literales: 0\n",
      "  ✗ ERROR en nivel 1: 'NoneType' object is not subscriptable\n",
      "  Tipo error: TypeError\n",
      "  ¡ERROR DE CLASIFICACIÓN ENCONTRADO!\n",
      "  Esto indica que alguna subfórmula está devolviendo None en clasificación\n",
      "\n",
      "=== BUSCANDO SUBFÓRMULA PROBLEMÁTICA ===\n",
      "\n",
      "Analizando fórmulas en el nodo:\n",
      "Alfas: 0\n",
      "Betas: 1\n",
      "  Beta 0: (Ā>-None)...\n",
      "    Clasificación: (3, 'beta')\n",
      "Literales: 0\n"
     ]
    }
   ],
   "source": [
    "# Diagnóstico de la expansión progresiva\n",
    "def diagnosticar_expansion_progresiva():\n",
    "    print(\"=== DIAGNÓSTICO DE EXPANSIÓN PROGRESIVA ===\\n\")\n",
    "    \n",
    "    # Construir la fórmula progresivamente\n",
    "    niveles = []\n",
    "    partes_actuales = []\n",
    "    \n",
    "    for i, parte in enumerate(partes_formula, 1):\n",
    "        partes_actuales.append(parte)\n",
    "        \n",
    "        # Construir fórmula progresiva\n",
    "        if len(partes_actuales) == 1:\n",
    "            formula_actual = partes_actuales[0]\n",
    "        else:\n",
    "            formula_actual = f\"({niveles[-1]}Y{parte})\"\n",
    "        \n",
    "        try:\n",
    "            print(f\"Probando nivel {i}: {len(partes_actuales)} partes\")\n",
    "            print(f\"Fórmula (primeros 100 chars): {formula_actual[:100]}...\")\n",
    "            \n",
    "            # Crear árbol\n",
    "            A = inorder_to_tree(formula_actual)\n",
    "            print(f\"  ✓ Árbol creado\")\n",
    "            \n",
    "            # Crear nodo tableaux\n",
    "            n = nodos_tableaux([A])\n",
    "            print(f\"  ✓ Nodo creado - Alfas: {len(n.alfas)}, Betas: {len(n.betas)}, Literales: {len(n.literales)}\")\n",
    "            \n",
    "            # Intentar expandir\n",
    "            hijos = n.expandir()\n",
    "            print(f\"  ✓ Expansión exitosa - {len(hijos)} hijos\")\n",
    "            \n",
    "            niveles.append(formula_actual)\n",
    "            print()\n",
    "            \n",
    "        except Exception as e:\n",
    "            print(f\"  ✗ ERROR en nivel {i}: {e}\")\n",
    "            print(f\"  Tipo error: {type(e).__name__}\")\n",
    "            \n",
    "            # Información de debug específica para el error de clasificación\n",
    "            if \"'NoneType' object is not subscriptable\" in str(e):\n",
    "                print(\"  ¡ERROR DE CLASIFICACIÓN ENCONTRADO!\")\n",
    "                print(\"  Esto indica que alguna subfórmula está devolviendo None en clasificación\")\n",
    "                \n",
    "                # Diagnosticar qué subfórmula específica está causando el problema\n",
    "                diagnosticar_subformula_problematica(formula_actual)\n",
    "            \n",
    "            return i, formula_actual\n",
    "    \n",
    "    print(\"✓ Todas las expansiones fueron exitosas\")\n",
    "    return None, None\n",
    "\n",
    "def diagnosticar_subformula_problematica(formula_completa):\n",
    "    \"\"\"Encuentra exactamente qué subfórmula está causando el problema\"\"\"\n",
    "    print(\"\\n=== BUSCANDO SUBFÓRMULA PROBLEMÁTICA ===\\n\")\n",
    "    \n",
    "    try:\n",
    "        A = inorder_to_tree(formula_completa)\n",
    "        n = nodos_tableaux([A])\n",
    "        \n",
    "        print(\"Analizando fórmulas en el nodo:\")\n",
    "        print(f\"Alfas: {len(n.alfas)}\")\n",
    "        for i, (f, s, num, tipo) in enumerate(n.alfas):\n",
    "            print(f\"  Alfa {i}: {s[:50]}...\")\n",
    "            try:\n",
    "                # Verificar clasificación de cada alfa\n",
    "                clasif = f.clasifica_para_tableaux()\n",
    "                print(f\"    Clasificación: {clasif}\")\n",
    "            except Exception as e:\n",
    "                print(f\"    ✗ ERROR en clasificación: {e}\")\n",
    "                return f\"Alfa problemática: {s}\"\n",
    "        \n",
    "        print(f\"Betas: {len(n.betas)}\")\n",
    "        for i, (f, s, num, tipo) in enumerate(n.betas):\n",
    "            print(f\"  Beta {i}: {s[:50]}...\")\n",
    "            try:\n",
    "                # Verificar clasificación de cada beta\n",
    "                clasif = f.clasifica_para_tableaux()\n",
    "                print(f\"    Clasificación: {clasif}\")\n",
    "            except Exception as e:\n",
    "                print(f\"    ✗ ERROR en clasificación: {e}\")\n",
    "                return f\"Beta problemática: {s}\"\n",
    "        \n",
    "        print(f\"Literales: {len(n.literales)}\")\n",
    "        for i, (f, s, num, tipo) in enumerate(n.literales):\n",
    "            print(f\"  Literal {i}: {s}\")\n",
    "        \n",
    "    except Exception as e:\n",
    "        print(f\"Error en diagnóstico: {e}\")\n",
    "    \n",
    "    return \"No se pudo identificar la subfórmula problemática\"\n",
    "\n",
    "# Ejecutar diagnóstico de expansión\n",
    "nivel_fallido, formula_fallida = diagnosticar_expansion_progresiva()"
   ]
  },
  {
   "cell_type": "code",
   "execution_count": 25,
   "metadata": {},
   "outputs": [],
   "source": [
    "# CORRECCIÓN: Función expandir completamente revisada\n",
    "def expandir_corregido(self):\n",
    "    '''Versión corregida del método expandir'''\n",
    "    f_alfas = deepcopy(self.alfas)\n",
    "    f_betas = deepcopy(self.betas)\n",
    "    f_literales = deepcopy(self.literales)\n",
    "    \n",
    "    if len(self.alfas) > 0:\n",
    "        f, s, num_regla, cl = f_alfas.pop(0)\n",
    "        print(f\"Expandiendo alfa {num_regla}: {s}\")\n",
    "        \n",
    "        if num_regla == 1:\n",
    "            formulas = [f.subf.subf]\n",
    "        elif num_regla == 2:\n",
    "            formulas = [f.left, f.right]\n",
    "        elif num_regla == 3:\n",
    "            formulas = [Negacion(f.subf.left), Negacion(f.subf.right)]\n",
    "        elif num_regla == 4:\n",
    "            formulas = [f.subf.left, Negacion(f.subf.right)]\n",
    "        \n",
    "        for nueva_f in formulas:\n",
    "            self._agregar_formula_corregida(nueva_f, f_alfas, f_betas, f_literales)\n",
    "        \n",
    "        nuevo_nodo = nodos_tableaux([])\n",
    "        nuevo_nodo.alfas = f_alfas\n",
    "        nuevo_nodo.betas = f_betas\n",
    "        nuevo_nodo.literales = f_literales\n",
    "        return [nuevo_nodo]\n",
    "        \n",
    "    elif len(self.betas) > 0:\n",
    "        f, s, num_regla, cl = f_betas.pop(0)\n",
    "        print(f\"Expandiendo beta {num_regla}: {s}\")\n",
    "        \n",
    "        if num_regla == 1:\n",
    "            B1 = Negacion(f.subf.left)\n",
    "            B2 = Negacion(f.subf.right)\n",
    "        elif num_regla == 2:\n",
    "            B1 = f.left\n",
    "            B2 = f.right\n",
    "        elif num_regla == 3:\n",
    "            B1 = Negacion(f.left)\n",
    "            B2 = f.right\n",
    "        \n",
    "        print(f\"B1: {B1} - Tipo: {type(B1)}\")\n",
    "        print(f\"B2: {B2} - Tipo: {type(B2)}\")\n",
    "        \n",
    "        # Crear copias para los dos nodos hijos\n",
    "        f_alfas1 = deepcopy(f_alfas)\n",
    "        f_betas1 = deepcopy(f_betas)\n",
    "        f_literales1 = deepcopy(f_literales)\n",
    "        \n",
    "        f_alfas2 = deepcopy(f_alfas)\n",
    "        f_betas2 = deepcopy(f_betas)\n",
    "        f_literales2 = deepcopy(f_literales)\n",
    "        \n",
    "        # Agregar B1 al primer nodo\n",
    "        self._agregar_formula_corregida(B1, f_alfas1, f_betas1, f_literales1)\n",
    "        # Agregar B2 al segundo nodo\n",
    "        self._agregar_formula_corregida(B2, f_alfas2, f_betas2, f_literales2)\n",
    "        \n",
    "        n1 = nodos_tableaux([])\n",
    "        n1.alfas = f_alfas1\n",
    "        n1.betas = f_betas1\n",
    "        n1.literales = f_literales1\n",
    "        \n",
    "        n2 = nodos_tableaux([])\n",
    "        n2.alfas = f_alfas2\n",
    "        n2.betas = f_betas2\n",
    "        n2.literales = f_literales2\n",
    "        \n",
    "        return [n1, n2]\n",
    "    else:\n",
    "        return []\n",
    "\n",
    "def _agregar_formula_corregida(self, formula, lista_alfas, lista_betas, lista_literales):\n",
    "    '''Método auxiliar para agregar fórmulas de manera segura'''\n",
    "    try:\n",
    "        clasf = formula.clasifica_para_tableaux()\n",
    "        if clasf[1] == 'alfa':\n",
    "            lista = lista_alfas\n",
    "        elif clasf[1] == 'beta':\n",
    "            lista = lista_betas\n",
    "        elif clasf[1] == 'literal':\n",
    "            lista = lista_literales\n",
    "        else:\n",
    "            # Si no se puede clasificar, tratarlo como literal por seguridad\n",
    "            print(f\"ADVERTENCIA: Fórmula no clasificada '{formula}', tratando como literal\")\n",
    "            lista = lista_literales\n",
    "            clasf = (None, 'literal')\n",
    "        \n",
    "        # Verificar que no esté duplicada\n",
    "        strs = [c[1] for c in lista]\n",
    "        if str(formula) not in strs:\n",
    "            lista.append((formula, str(formula), *clasf))\n",
    "            \n",
    "    except Exception as e:\n",
    "        print(f\"ERROR al clasificar fórmula '{formula}': {e}\")\n",
    "        # En caso de error, agregar como literal\n",
    "        lista_literales.append((formula, str(formula), None, 'literal'))\n",
    "\n",
    "# Parche temporal para usar la versión corregida\n",
    "nodos_tableaux.expandir = expandir_corregido\n",
    "nodos_tableaux._agregar_formula_corregida = _agregar_formula_corregida"
   ]
  },
  {
   "cell_type": "code",
   "execution_count": 29,
   "metadata": {},
   "outputs": [
    {
     "name": "stdout",
     "output_type": "stream",
     "text": [
      "Analizando cadena: (Ā>-((āOĂ)Oă))\n",
      "Longitud: 14\n",
      "Conectivo principal encontrado en posición 2: '>'\n",
      "Subfórmula izquierda (1:2): 'Ā'\n",
      "Subfórmula derecha (3:-1): '-((āOĂ)Oă)'\n",
      "Left tree: Ā\n",
      "Right tree: -((āOĂ)Oă)\n"
     ]
    }
   ],
   "source": [
    "# DIAGNÓSTICO DETALLADO de inorder_to_tree\n",
    "def diagnosticar_inorder_to_tree():\n",
    "    cadena = '(Ā>-((āOĂ)Oă))'\n",
    "    print(f\"Analizando cadena: {cadena}\")\n",
    "    print(f\"Longitud: {len(cadena)}\")\n",
    "    \n",
    "    # Simular lo que hace inorder_to_tree\n",
    "    assert(cadena[0] == \"(\" and cadena[-1] == \")\")\n",
    "    \n",
    "    counter = 0\n",
    "    for i in range(1, len(cadena)):\n",
    "        if cadena[i] == \"(\":\n",
    "            counter += 1\n",
    "        elif cadena[i] == \")\":\n",
    "            counter -= 1\n",
    "        elif cadena[i] in CONECTIVOS_BINARIOS and counter == 0:\n",
    "            print(f\"Conectivo principal encontrado en posición {i}: '{cadena[i]}'\")\n",
    "            print(f\"Subfórmula izquierda (1:{i}): '{cadena[1:i]}'\")\n",
    "            print(f\"Subfórmula derecha ({i+1}:{-1}): '{cadena[i + 1:-1]}'\")\n",
    "            \n",
    "            # Procesar subfórmulas\n",
    "            try:\n",
    "                left_tree = inorder_to_tree(cadena[1:i])\n",
    "                print(f\"Left tree: {left_tree}\")\n",
    "            except Exception as e:\n",
    "                print(f\"Error en left: {e}\")\n",
    "                \n",
    "            try:\n",
    "                right_tree = inorder_to_tree(cadena[i + 1:len(cadena)-1])\n",
    "                print(f\"Right tree: {right_tree}\")\n",
    "            except Exception as e:\n",
    "                print(f\"Error en right: {e}\")\n",
    "            \n",
    "            break\n",
    "\n",
    "diagnosticar_inorder_to_tree()"
   ]
  },
  {
   "cell_type": "code",
   "execution_count": 27,
   "metadata": {},
   "outputs": [
    {
     "name": "stdout",
     "output_type": "stream",
     "text": [
      "Expandiendo alfa 2: ((((((((((((((((((Ā>-((āOĂ)Oă))Y(Đ>-((đOĒ)Oē)))Y(Ġ>-((ġOĢ)Oģ)))Y(((Ą>-((ąOĆ)Oć))Y(Ĕ>-((ĕOĖ)Oė)))Y(Ĥ>-((ĥOĦ)Oħ))))Y(((Ĉ>-((ĉOĊ)Oċ))Y(Ę>-((ęOĚ)Oě)))Y(Ĩ>-((ĩOĪ)Oī))))Y(((Č>-((čOĎ)Oď))Y(Ĝ>-((ĝOĞ)Oğ)))Y(Ĭ>-((ĭOĮ)Oį))))Y(((ā>-((ĀOĂ)Oă))Y(đ>-((ĐOĒ)Oē)))Y(ġ>-((ĠOĢ)Oģ))))Y(((ą>-((ĄOĆ)Oć))Y(ĕ>-((ĔOĖ)Oė)))Y(ĥ>-((ĤOĦ)Oħ))))Y(((ĉ>-((ĈOĊ)Oċ))Y(ę>-((ĘOĚ)Oě)))Y(ĩ>-((ĨOĪ)Oī))))Y(((č>-((ČOĎ)Oď))Y(ĝ>-((ĜOĞ)Oğ)))Y(ĭ>-((ĬOĮ)Oį))))Y(((Ă>-((ĀOā)Oă))Y(Ē>-((ĐOđ)Oē)))Y(Ģ>-((ĠOġ)Oģ))))Y(((Ć>-((ĄOą)Oć))Y(Ė>-((ĔOĕ)Oė)))Y(Ħ>-((ĤOĥ)Oħ))))Y(((Ċ>-((ĈOĉ)Oċ))Y(Ě>-((ĘOę)Oě)))Y(Ī>-((ĨOĩ)Oī))))Y(((Ď>-((ČOč)Oď))Y(Ğ>-((ĜOĝ)Oğ)))Y(Į>-((ĬOĭ)Oį))))Y(((ă>-((ĀOā)OĂ))Y(ē>-((ĐOđ)OĒ)))Y(ģ>-((ĠOġ)OĢ))))Y(((ć>-((ĄOą)OĆ))Y(ė>-((ĔOĕ)OĖ)))Y(ħ>-((ĤOĥ)OĦ))))Y(((ċ>-((ĈOĉ)OĊ))Y(ě>-((ĘOę)OĚ)))Y(ī>-((ĨOĩ)OĪ))))Y(((ď>-((ČOč)OĎ))Y(ğ>-((ĜOĝ)OĞ)))Y(į>-((ĬOĭ)OĮ))))\n",
      "Expandiendo alfa 2: (((((((((((((((((Ā>-((āOĂ)Oă))Y(Đ>-((đOĒ)Oē)))Y(Ġ>-((ġOĢ)Oģ)))Y(((Ą>-((ąOĆ)Oć))Y(Ĕ>-((ĕOĖ)Oė)))Y(Ĥ>-((ĥOĦ)Oħ))))Y(((Ĉ>-((ĉOĊ)Oċ))Y(Ę>-((ęOĚ)Oě)))Y(Ĩ>-((ĩOĪ)Oī))))Y(((Č>-((čOĎ)Oď))Y(Ĝ>-((ĝOĞ)Oğ)))Y(Ĭ>-((ĭOĮ)Oį))))Y(((ā>-((ĀOĂ)Oă))Y(đ>-((ĐOĒ)Oē)))Y(ġ>-((ĠOĢ)Oģ))))Y(((ą>-((ĄOĆ)Oć))Y(ĕ>-((ĔOĖ)Oė)))Y(ĥ>-((ĤOĦ)Oħ))))Y(((ĉ>-((ĈOĊ)Oċ))Y(ę>-((ĘOĚ)Oě)))Y(ĩ>-((ĨOĪ)Oī))))Y(((č>-((ČOĎ)Oď))Y(ĝ>-((ĜOĞ)Oğ)))Y(ĭ>-((ĬOĮ)Oį))))Y(((Ă>-((ĀOā)Oă))Y(Ē>-((ĐOđ)Oē)))Y(Ģ>-((ĠOġ)Oģ))))Y(((Ć>-((ĄOą)Oć))Y(Ė>-((ĔOĕ)Oė)))Y(Ħ>-((ĤOĥ)Oħ))))Y(((Ċ>-((ĈOĉ)Oċ))Y(Ě>-((ĘOę)Oě)))Y(Ī>-((ĨOĩ)Oī))))Y(((Ď>-((ČOč)Oď))Y(Ğ>-((ĜOĝ)Oğ)))Y(Į>-((ĬOĭ)Oį))))Y(((ă>-((ĀOā)OĂ))Y(ē>-((ĐOđ)OĒ)))Y(ģ>-((ĠOġ)OĢ))))Y(((ć>-((ĄOą)OĆ))Y(ė>-((ĔOĕ)OĖ)))Y(ħ>-((ĤOĥ)OĦ))))Y(((ċ>-((ĈOĉ)OĊ))Y(ě>-((ĘOę)OĚ)))Y(ī>-((ĨOĩ)OĪ))))\n",
      "Expandiendo alfa 2: (((ď>-((ČOč)OĎ))Y(ğ>-((ĜOĝ)OĞ)))Y(į>-((ĬOĭ)OĮ)))\n",
      "Expandiendo alfa 2: ((((((((((((((((Ā>-((āOĂ)Oă))Y(Đ>-((đOĒ)Oē)))Y(Ġ>-((ġOĢ)Oģ)))Y(((Ą>-((ąOĆ)Oć))Y(Ĕ>-((ĕOĖ)Oė)))Y(Ĥ>-((ĥOĦ)Oħ))))Y(((Ĉ>-((ĉOĊ)Oċ))Y(Ę>-((ęOĚ)Oě)))Y(Ĩ>-((ĩOĪ)Oī))))Y(((Č>-((čOĎ)Oď))Y(Ĝ>-((ĝOĞ)Oğ)))Y(Ĭ>-((ĭOĮ)Oį))))Y(((ā>-((ĀOĂ)Oă))Y(đ>-((ĐOĒ)Oē)))Y(ġ>-((ĠOĢ)Oģ))))Y(((ą>-((ĄOĆ)Oć))Y(ĕ>-((ĔOĖ)Oė)))Y(ĥ>-((ĤOĦ)Oħ))))Y(((ĉ>-((ĈOĊ)Oċ))Y(ę>-((ĘOĚ)Oě)))Y(ĩ>-((ĨOĪ)Oī))))Y(((č>-((ČOĎ)Oď))Y(ĝ>-((ĜOĞ)Oğ)))Y(ĭ>-((ĬOĮ)Oį))))Y(((Ă>-((ĀOā)Oă))Y(Ē>-((ĐOđ)Oē)))Y(Ģ>-((ĠOġ)Oģ))))Y(((Ć>-((ĄOą)Oć))Y(Ė>-((ĔOĕ)Oė)))Y(Ħ>-((ĤOĥ)Oħ))))Y(((Ċ>-((ĈOĉ)Oċ))Y(Ě>-((ĘOę)Oě)))Y(Ī>-((ĨOĩ)Oī))))Y(((Ď>-((ČOč)Oď))Y(Ğ>-((ĜOĝ)Oğ)))Y(Į>-((ĬOĭ)Oį))))Y(((ă>-((ĀOā)OĂ))Y(ē>-((ĐOđ)OĒ)))Y(ģ>-((ĠOġ)OĢ))))Y(((ć>-((ĄOą)OĆ))Y(ė>-((ĔOĕ)OĖ)))Y(ħ>-((ĤOĥ)OĦ))))\n",
      "Expandiendo alfa 2: (((ċ>-((ĈOĉ)OĊ))Y(ě>-((ĘOę)OĚ)))Y(ī>-((ĨOĩ)OĪ)))\n",
      "Expandiendo alfa 2: ((ď>-((ČOč)OĎ))Y(ğ>-((ĜOĝ)OĞ)))\n",
      "Expandiendo alfa 2: (((((((((((((((Ā>-((āOĂ)Oă))Y(Đ>-((đOĒ)Oē)))Y(Ġ>-((ġOĢ)Oģ)))Y(((Ą>-((ąOĆ)Oć))Y(Ĕ>-((ĕOĖ)Oė)))Y(Ĥ>-((ĥOĦ)Oħ))))Y(((Ĉ>-((ĉOĊ)Oċ))Y(Ę>-((ęOĚ)Oě)))Y(Ĩ>-((ĩOĪ)Oī))))Y(((Č>-((čOĎ)Oď))Y(Ĝ>-((ĝOĞ)Oğ)))Y(Ĭ>-((ĭOĮ)Oį))))Y(((ā>-((ĀOĂ)Oă))Y(đ>-((ĐOĒ)Oē)))Y(ġ>-((ĠOĢ)Oģ))))Y(((ą>-((ĄOĆ)Oć))Y(ĕ>-((ĔOĖ)Oė)))Y(ĥ>-((ĤOĦ)Oħ))))Y(((ĉ>-((ĈOĊ)Oċ))Y(ę>-((ĘOĚ)Oě)))Y(ĩ>-((ĨOĪ)Oī))))Y(((č>-((ČOĎ)Oď))Y(ĝ>-((ĜOĞ)Oğ)))Y(ĭ>-((ĬOĮ)Oį))))Y(((Ă>-((ĀOā)Oă))Y(Ē>-((ĐOđ)Oē)))Y(Ģ>-((ĠOġ)Oģ))))Y(((Ć>-((ĄOą)Oć))Y(Ė>-((ĔOĕ)Oė)))Y(Ħ>-((ĤOĥ)Oħ))))Y(((Ċ>-((ĈOĉ)Oċ))Y(Ě>-((ĘOę)Oě)))Y(Ī>-((ĨOĩ)Oī))))Y(((Ď>-((ČOč)Oď))Y(Ğ>-((ĜOĝ)Oğ)))Y(Į>-((ĬOĭ)Oį))))Y(((ă>-((ĀOā)OĂ))Y(ē>-((ĐOđ)OĒ)))Y(ģ>-((ĠOġ)OĢ))))\n",
      "Expandiendo alfa 2: (((ć>-((ĄOą)OĆ))Y(ė>-((ĔOĕ)OĖ)))Y(ħ>-((ĤOĥ)OĦ)))\n",
      "Expandiendo alfa 2: ((ċ>-((ĈOĉ)OĊ))Y(ě>-((ĘOę)OĚ)))\n",
      "Expandiendo alfa 2: ((((((((((((((Ā>-((āOĂ)Oă))Y(Đ>-((đOĒ)Oē)))Y(Ġ>-((ġOĢ)Oģ)))Y(((Ą>-((ąOĆ)Oć))Y(Ĕ>-((ĕOĖ)Oė)))Y(Ĥ>-((ĥOĦ)Oħ))))Y(((Ĉ>-((ĉOĊ)Oċ))Y(Ę>-((ęOĚ)Oě)))Y(Ĩ>-((ĩOĪ)Oī))))Y(((Č>-((čOĎ)Oď))Y(Ĝ>-((ĝOĞ)Oğ)))Y(Ĭ>-((ĭOĮ)Oį))))Y(((ā>-((ĀOĂ)Oă))Y(đ>-((ĐOĒ)Oē)))Y(ġ>-((ĠOĢ)Oģ))))Y(((ą>-((ĄOĆ)Oć))Y(ĕ>-((ĔOĖ)Oė)))Y(ĥ>-((ĤOĦ)Oħ))))Y(((ĉ>-((ĈOĊ)Oċ))Y(ę>-((ĘOĚ)Oě)))Y(ĩ>-((ĨOĪ)Oī))))Y(((č>-((ČOĎ)Oď))Y(ĝ>-((ĜOĞ)Oğ)))Y(ĭ>-((ĬOĮ)Oį))))Y(((Ă>-((ĀOā)Oă))Y(Ē>-((ĐOđ)Oē)))Y(Ģ>-((ĠOġ)Oģ))))Y(((Ć>-((ĄOą)Oć))Y(Ė>-((ĔOĕ)Oė)))Y(Ħ>-((ĤOĥ)Oħ))))Y(((Ċ>-((ĈOĉ)Oċ))Y(Ě>-((ĘOę)Oě)))Y(Ī>-((ĨOĩ)Oī))))Y(((Ď>-((ČOč)Oď))Y(Ğ>-((ĜOĝ)Oğ)))Y(Į>-((ĬOĭ)Oį))))\n",
      "Expandiendo alfa 2: (((ă>-((ĀOā)OĂ))Y(ē>-((ĐOđ)OĒ)))Y(ģ>-((ĠOġ)OĢ)))\n",
      "Expandiendo alfa 2: ((ć>-((ĄOą)OĆ))Y(ė>-((ĔOĕ)OĖ)))\n",
      "Expandiendo alfa 2: (((((((((((((Ā>-((āOĂ)Oă))Y(Đ>-((đOĒ)Oē)))Y(Ġ>-((ġOĢ)Oģ)))Y(((Ą>-((ąOĆ)Oć))Y(Ĕ>-((ĕOĖ)Oė)))Y(Ĥ>-((ĥOĦ)Oħ))))Y(((Ĉ>-((ĉOĊ)Oċ))Y(Ę>-((ęOĚ)Oě)))Y(Ĩ>-((ĩOĪ)Oī))))Y(((Č>-((čOĎ)Oď))Y(Ĝ>-((ĝOĞ)Oğ)))Y(Ĭ>-((ĭOĮ)Oį))))Y(((ā>-((ĀOĂ)Oă))Y(đ>-((ĐOĒ)Oē)))Y(ġ>-((ĠOĢ)Oģ))))Y(((ą>-((ĄOĆ)Oć))Y(ĕ>-((ĔOĖ)Oė)))Y(ĥ>-((ĤOĦ)Oħ))))Y(((ĉ>-((ĈOĊ)Oċ))Y(ę>-((ĘOĚ)Oě)))Y(ĩ>-((ĨOĪ)Oī))))Y(((č>-((ČOĎ)Oď))Y(ĝ>-((ĜOĞ)Oğ)))Y(ĭ>-((ĬOĮ)Oį))))Y(((Ă>-((ĀOā)Oă))Y(Ē>-((ĐOđ)Oē)))Y(Ģ>-((ĠOġ)Oģ))))Y(((Ć>-((ĄOą)Oć))Y(Ė>-((ĔOĕ)Oė)))Y(Ħ>-((ĤOĥ)Oħ))))Y(((Ċ>-((ĈOĉ)Oċ))Y(Ě>-((ĘOę)Oě)))Y(Ī>-((ĨOĩ)Oī))))\n",
      "Expandiendo alfa 2: (((Ď>-((ČOč)Oď))Y(Ğ>-((ĜOĝ)Oğ)))Y(Į>-((ĬOĭ)Oį)))\n",
      "Expandiendo alfa 2: ((ă>-((ĀOā)OĂ))Y(ē>-((ĐOđ)OĒ)))\n",
      "Expandiendo alfa 2: ((((((((((((Ā>-((āOĂ)Oă))Y(Đ>-((đOĒ)Oē)))Y(Ġ>-((ġOĢ)Oģ)))Y(((Ą>-((ąOĆ)Oć))Y(Ĕ>-((ĕOĖ)Oė)))Y(Ĥ>-((ĥOĦ)Oħ))))Y(((Ĉ>-((ĉOĊ)Oċ))Y(Ę>-((ęOĚ)Oě)))Y(Ĩ>-((ĩOĪ)Oī))))Y(((Č>-((čOĎ)Oď))Y(Ĝ>-((ĝOĞ)Oğ)))Y(Ĭ>-((ĭOĮ)Oį))))Y(((ā>-((ĀOĂ)Oă))Y(đ>-((ĐOĒ)Oē)))Y(ġ>-((ĠOĢ)Oģ))))Y(((ą>-((ĄOĆ)Oć))Y(ĕ>-((ĔOĖ)Oė)))Y(ĥ>-((ĤOĦ)Oħ))))Y(((ĉ>-((ĈOĊ)Oċ))Y(ę>-((ĘOĚ)Oě)))Y(ĩ>-((ĨOĪ)Oī))))Y(((č>-((ČOĎ)Oď))Y(ĝ>-((ĜOĞ)Oğ)))Y(ĭ>-((ĬOĮ)Oį))))Y(((Ă>-((ĀOā)Oă))Y(Ē>-((ĐOđ)Oē)))Y(Ģ>-((ĠOġ)Oģ))))Y(((Ć>-((ĄOą)Oć))Y(Ė>-((ĔOĕ)Oė)))Y(Ħ>-((ĤOĥ)Oħ))))\n",
      "Expandiendo alfa 2: (((Ċ>-((ĈOĉ)Oċ))Y(Ě>-((ĘOę)Oě)))Y(Ī>-((ĨOĩ)Oī)))\n",
      "Expandiendo alfa 2: ((Ď>-((ČOč)Oď))Y(Ğ>-((ĜOĝ)Oğ)))\n",
      "Expandiendo alfa 2: (((((((((((Ā>-((āOĂ)Oă))Y(Đ>-((đOĒ)Oē)))Y(Ġ>-((ġOĢ)Oģ)))Y(((Ą>-((ąOĆ)Oć))Y(Ĕ>-((ĕOĖ)Oė)))Y(Ĥ>-((ĥOĦ)Oħ))))Y(((Ĉ>-((ĉOĊ)Oċ))Y(Ę>-((ęOĚ)Oě)))Y(Ĩ>-((ĩOĪ)Oī))))Y(((Č>-((čOĎ)Oď))Y(Ĝ>-((ĝOĞ)Oğ)))Y(Ĭ>-((ĭOĮ)Oį))))Y(((ā>-((ĀOĂ)Oă))Y(đ>-((ĐOĒ)Oē)))Y(ġ>-((ĠOĢ)Oģ))))Y(((ą>-((ĄOĆ)Oć))Y(ĕ>-((ĔOĖ)Oė)))Y(ĥ>-((ĤOĦ)Oħ))))Y(((ĉ>-((ĈOĊ)Oċ))Y(ę>-((ĘOĚ)Oě)))Y(ĩ>-((ĨOĪ)Oī))))Y(((č>-((ČOĎ)Oď))Y(ĝ>-((ĜOĞ)Oğ)))Y(ĭ>-((ĬOĮ)Oį))))Y(((Ă>-((ĀOā)Oă))Y(Ē>-((ĐOđ)Oē)))Y(Ģ>-((ĠOġ)Oģ))))\n",
      "Expandiendo alfa 2: (((Ć>-((ĄOą)Oć))Y(Ė>-((ĔOĕ)Oė)))Y(Ħ>-((ĤOĥ)Oħ)))\n",
      "Expandiendo alfa 2: ((Ċ>-((ĈOĉ)Oċ))Y(Ě>-((ĘOę)Oě)))\n",
      "Expandiendo alfa 2: ((((((((((Ā>-((āOĂ)Oă))Y(Đ>-((đOĒ)Oē)))Y(Ġ>-((ġOĢ)Oģ)))Y(((Ą>-((ąOĆ)Oć))Y(Ĕ>-((ĕOĖ)Oė)))Y(Ĥ>-((ĥOĦ)Oħ))))Y(((Ĉ>-((ĉOĊ)Oċ))Y(Ę>-((ęOĚ)Oě)))Y(Ĩ>-((ĩOĪ)Oī))))Y(((Č>-((čOĎ)Oď))Y(Ĝ>-((ĝOĞ)Oğ)))Y(Ĭ>-((ĭOĮ)Oį))))Y(((ā>-((ĀOĂ)Oă))Y(đ>-((ĐOĒ)Oē)))Y(ġ>-((ĠOĢ)Oģ))))Y(((ą>-((ĄOĆ)Oć))Y(ĕ>-((ĔOĖ)Oė)))Y(ĥ>-((ĤOĦ)Oħ))))Y(((ĉ>-((ĈOĊ)Oċ))Y(ę>-((ĘOĚ)Oě)))Y(ĩ>-((ĨOĪ)Oī))))Y(((č>-((ČOĎ)Oď))Y(ĝ>-((ĜOĞ)Oğ)))Y(ĭ>-((ĬOĮ)Oį))))\n",
      "Expandiendo alfa 2: (((Ă>-((ĀOā)Oă))Y(Ē>-((ĐOđ)Oē)))Y(Ģ>-((ĠOġ)Oģ)))\n",
      "Expandiendo alfa 2: ((Ć>-((ĄOą)Oć))Y(Ė>-((ĔOĕ)Oė)))\n",
      "Expandiendo alfa 2: (((((((((Ā>-((āOĂ)Oă))Y(Đ>-((đOĒ)Oē)))Y(Ġ>-((ġOĢ)Oģ)))Y(((Ą>-((ąOĆ)Oć))Y(Ĕ>-((ĕOĖ)Oė)))Y(Ĥ>-((ĥOĦ)Oħ))))Y(((Ĉ>-((ĉOĊ)Oċ))Y(Ę>-((ęOĚ)Oě)))Y(Ĩ>-((ĩOĪ)Oī))))Y(((Č>-((čOĎ)Oď))Y(Ĝ>-((ĝOĞ)Oğ)))Y(Ĭ>-((ĭOĮ)Oį))))Y(((ā>-((ĀOĂ)Oă))Y(đ>-((ĐOĒ)Oē)))Y(ġ>-((ĠOĢ)Oģ))))Y(((ą>-((ĄOĆ)Oć))Y(ĕ>-((ĔOĖ)Oė)))Y(ĥ>-((ĤOĦ)Oħ))))Y(((ĉ>-((ĈOĊ)Oċ))Y(ę>-((ĘOĚ)Oě)))Y(ĩ>-((ĨOĪ)Oī))))\n",
      "Expandiendo alfa 2: (((č>-((ČOĎ)Oď))Y(ĝ>-((ĜOĞ)Oğ)))Y(ĭ>-((ĬOĮ)Oį)))\n",
      "Expandiendo alfa 2: ((Ă>-((ĀOā)Oă))Y(Ē>-((ĐOđ)Oē)))\n",
      "Expandiendo alfa 2: ((((((((Ā>-((āOĂ)Oă))Y(Đ>-((đOĒ)Oē)))Y(Ġ>-((ġOĢ)Oģ)))Y(((Ą>-((ąOĆ)Oć))Y(Ĕ>-((ĕOĖ)Oė)))Y(Ĥ>-((ĥOĦ)Oħ))))Y(((Ĉ>-((ĉOĊ)Oċ))Y(Ę>-((ęOĚ)Oě)))Y(Ĩ>-((ĩOĪ)Oī))))Y(((Č>-((čOĎ)Oď))Y(Ĝ>-((ĝOĞ)Oğ)))Y(Ĭ>-((ĭOĮ)Oį))))Y(((ā>-((ĀOĂ)Oă))Y(đ>-((ĐOĒ)Oē)))Y(ġ>-((ĠOĢ)Oģ))))Y(((ą>-((ĄOĆ)Oć))Y(ĕ>-((ĔOĖ)Oė)))Y(ĥ>-((ĤOĦ)Oħ))))\n",
      "Expandiendo alfa 2: (((ĉ>-((ĈOĊ)Oċ))Y(ę>-((ĘOĚ)Oě)))Y(ĩ>-((ĨOĪ)Oī)))\n",
      "Expandiendo alfa 2: ((č>-((ČOĎ)Oď))Y(ĝ>-((ĜOĞ)Oğ)))\n",
      "Expandiendo alfa 2: (((((((Ā>-((āOĂ)Oă))Y(Đ>-((đOĒ)Oē)))Y(Ġ>-((ġOĢ)Oģ)))Y(((Ą>-((ąOĆ)Oć))Y(Ĕ>-((ĕOĖ)Oė)))Y(Ĥ>-((ĥOĦ)Oħ))))Y(((Ĉ>-((ĉOĊ)Oċ))Y(Ę>-((ęOĚ)Oě)))Y(Ĩ>-((ĩOĪ)Oī))))Y(((Č>-((čOĎ)Oď))Y(Ĝ>-((ĝOĞ)Oğ)))Y(Ĭ>-((ĭOĮ)Oį))))Y(((ā>-((ĀOĂ)Oă))Y(đ>-((ĐOĒ)Oē)))Y(ġ>-((ĠOĢ)Oģ))))\n",
      "Expandiendo alfa 2: (((ą>-((ĄOĆ)Oć))Y(ĕ>-((ĔOĖ)Oė)))Y(ĥ>-((ĤOĦ)Oħ)))\n",
      "Expandiendo alfa 2: ((ĉ>-((ĈOĊ)Oċ))Y(ę>-((ĘOĚ)Oě)))\n",
      "Expandiendo alfa 2: ((((((Ā>-((āOĂ)Oă))Y(Đ>-((đOĒ)Oē)))Y(Ġ>-((ġOĢ)Oģ)))Y(((Ą>-((ąOĆ)Oć))Y(Ĕ>-((ĕOĖ)Oė)))Y(Ĥ>-((ĥOĦ)Oħ))))Y(((Ĉ>-((ĉOĊ)Oċ))Y(Ę>-((ęOĚ)Oě)))Y(Ĩ>-((ĩOĪ)Oī))))Y(((Č>-((čOĎ)Oď))Y(Ĝ>-((ĝOĞ)Oğ)))Y(Ĭ>-((ĭOĮ)Oį))))\n",
      "Expandiendo alfa 2: (((ā>-((ĀOĂ)Oă))Y(đ>-((ĐOĒ)Oē)))Y(ġ>-((ĠOĢ)Oģ)))\n",
      "Expandiendo alfa 2: ((ą>-((ĄOĆ)Oć))Y(ĕ>-((ĔOĖ)Oė)))\n",
      "Expandiendo alfa 2: (((((Ā>-((āOĂ)Oă))Y(Đ>-((đOĒ)Oē)))Y(Ġ>-((ġOĢ)Oģ)))Y(((Ą>-((ąOĆ)Oć))Y(Ĕ>-((ĕOĖ)Oė)))Y(Ĥ>-((ĥOĦ)Oħ))))Y(((Ĉ>-((ĉOĊ)Oċ))Y(Ę>-((ęOĚ)Oě)))Y(Ĩ>-((ĩOĪ)Oī))))\n",
      "Expandiendo alfa 2: (((Č>-((čOĎ)Oď))Y(Ĝ>-((ĝOĞ)Oğ)))Y(Ĭ>-((ĭOĮ)Oį)))\n",
      "Expandiendo alfa 2: ((ā>-((ĀOĂ)Oă))Y(đ>-((ĐOĒ)Oē)))\n",
      "Expandiendo alfa 2: ((((Ā>-((āOĂ)Oă))Y(Đ>-((đOĒ)Oē)))Y(Ġ>-((ġOĢ)Oģ)))Y(((Ą>-((ąOĆ)Oć))Y(Ĕ>-((ĕOĖ)Oė)))Y(Ĥ>-((ĥOĦ)Oħ))))\n",
      "Expandiendo alfa 2: (((Ĉ>-((ĉOĊ)Oċ))Y(Ę>-((ęOĚ)Oě)))Y(Ĩ>-((ĩOĪ)Oī)))\n",
      "Expandiendo alfa 2: ((Č>-((čOĎ)Oď))Y(Ĝ>-((ĝOĞ)Oğ)))\n",
      "Expandiendo alfa 2: (((Ā>-((āOĂ)Oă))Y(Đ>-((đOĒ)Oē)))Y(Ġ>-((ġOĢ)Oģ)))\n",
      "Expandiendo alfa 2: (((Ą>-((ąOĆ)Oć))Y(Ĕ>-((ĕOĖ)Oė)))Y(Ĥ>-((ĥOĦ)Oħ)))\n",
      "Expandiendo alfa 2: ((Ĉ>-((ĉOĊ)Oċ))Y(Ę>-((ęOĚ)Oě)))\n",
      "Expandiendo alfa 2: ((Ā>-((āOĂ)Oă))Y(Đ>-((đOĒ)Oē)))\n",
      "Expandiendo alfa 2: ((Ą>-((ąOĆ)Oć))Y(Ĕ>-((ĕOĖ)Oė)))\n",
      "Expandiendo beta 3: (į>-((ĬOĭ)OĮ))\n",
      "B1: -į - Tipo: <class 'Logica.Negacion'>\n",
      "B2: -((ĬOĭ)OĮ) - Tipo: <class 'Logica.Negacion'>\n",
      "Expandiendo alfa 3: -((ĬOĭ)OĮ)\n",
      "Expandiendo alfa 3: -(ĬOĭ)\n",
      "Expandiendo beta 3: (ī>-((ĨOĩ)OĪ))\n",
      "B1: -ī - Tipo: <class 'Logica.Negacion'>\n",
      "B2: -((ĨOĩ)OĪ) - Tipo: <class 'Logica.Negacion'>\n",
      "Expandiendo alfa 3: -((ĨOĩ)OĪ)\n",
      "Expandiendo alfa 3: -(ĨOĩ)\n",
      "Expandiendo beta 3: (ď>-((ČOč)OĎ))\n",
      "B1: -ď - Tipo: <class 'Logica.Negacion'>\n",
      "B2: -((ČOč)OĎ) - Tipo: <class 'Logica.Negacion'>\n",
      "Expandiendo alfa 3: -((ČOč)OĎ)\n",
      "Expandiendo alfa 3: -(ČOč)\n",
      "Expandiendo beta 3: (ğ>-((ĜOĝ)OĞ))\n",
      "B1: -ğ - Tipo: <class 'Logica.Negacion'>\n",
      "B2: -((ĜOĝ)OĞ) - Tipo: <class 'Logica.Negacion'>\n",
      "Expandiendo alfa 3: -((ĜOĝ)OĞ)\n",
      "Expandiendo alfa 3: -(ĜOĝ)\n",
      "Expandiendo beta 3: (ħ>-((ĤOĥ)OĦ))\n",
      "B1: -ħ - Tipo: <class 'Logica.Negacion'>\n",
      "B2: -((ĤOĥ)OĦ) - Tipo: <class 'Logica.Negacion'>\n",
      "Expandiendo alfa 3: -((ĤOĥ)OĦ)\n",
      "Expandiendo alfa 3: -(ĤOĥ)\n",
      "Expandiendo beta 3: (ċ>-((ĈOĉ)OĊ))\n",
      "B1: -ċ - Tipo: <class 'Logica.Negacion'>\n",
      "B2: -((ĈOĉ)OĊ) - Tipo: <class 'Logica.Negacion'>\n",
      "Expandiendo alfa 3: -((ĈOĉ)OĊ)\n",
      "Expandiendo alfa 3: -(ĈOĉ)\n",
      "Expandiendo beta 3: (ě>-((ĘOę)OĚ))\n",
      "B1: -ě - Tipo: <class 'Logica.Negacion'>\n",
      "B2: -((ĘOę)OĚ) - Tipo: <class 'Logica.Negacion'>\n",
      "Expandiendo alfa 3: -((ĘOę)OĚ)\n",
      "Expandiendo alfa 3: -(ĘOę)\n",
      "Expandiendo beta 3: (ģ>-((ĠOġ)OĢ))\n",
      "B1: -ģ - Tipo: <class 'Logica.Negacion'>\n",
      "B2: -((ĠOġ)OĢ) - Tipo: <class 'Logica.Negacion'>\n",
      "Expandiendo alfa 3: -((ĠOġ)OĢ)\n",
      "Expandiendo alfa 3: -(ĠOġ)\n",
      "Expandiendo beta 3: (ć>-((ĄOą)OĆ))\n",
      "B1: -ć - Tipo: <class 'Logica.Negacion'>\n",
      "B2: -((ĄOą)OĆ) - Tipo: <class 'Logica.Negacion'>\n",
      "Expandiendo alfa 3: -((ĄOą)OĆ)\n",
      "Expandiendo alfa 3: -(ĄOą)\n",
      "Expandiendo beta 3: (ė>-((ĔOĕ)OĖ))\n",
      "B1: -ė - Tipo: <class 'Logica.Negacion'>\n",
      "B2: -((ĔOĕ)OĖ) - Tipo: <class 'Logica.Negacion'>\n",
      "Expandiendo alfa 3: -((ĔOĕ)OĖ)\n",
      "Expandiendo alfa 3: -(ĔOĕ)\n",
      "Expandiendo beta 3: (Į>-((ĬOĭ)Oį))\n",
      "B1: -Į - Tipo: <class 'Logica.Negacion'>\n",
      "B2: -((ĬOĭ)Oį) - Tipo: <class 'Logica.Negacion'>\n",
      "Expandiendo alfa 3: -((ĬOĭ)Oį)\n",
      "Expandiendo alfa 3: -(ĬOĭ)\n",
      "Expandiendo beta 3: (ă>-((ĀOā)OĂ))\n",
      "B1: -ă - Tipo: <class 'Logica.Negacion'>\n",
      "B2: -((ĀOā)OĂ) - Tipo: <class 'Logica.Negacion'>\n",
      "Expandiendo alfa 3: -((ĀOā)OĂ)\n",
      "Expandiendo alfa 3: -(ĀOā)\n",
      "Expandiendo beta 3: (ē>-((ĐOđ)OĒ))\n",
      "B1: -ē - Tipo: <class 'Logica.Negacion'>\n",
      "B2: -((ĐOđ)OĒ) - Tipo: <class 'Logica.Negacion'>\n",
      "Expandiendo alfa 3: -((ĐOđ)OĒ)\n",
      "Expandiendo alfa 3: -(ĐOđ)\n",
      "Expandiendo beta 3: (Ī>-((ĨOĩ)Oī))\n",
      "B1: -Ī - Tipo: <class 'Logica.Negacion'>\n",
      "B2: -((ĨOĩ)Oī) - Tipo: <class 'Logica.Negacion'>\n",
      "Expandiendo alfa 3: -((ĨOĩ)Oī)\n",
      "Expandiendo alfa 3: -(ĨOĩ)\n",
      "Expandiendo beta 3: (Ď>-((ČOč)Oď))\n",
      "B1: -Ď - Tipo: <class 'Logica.Negacion'>\n",
      "B2: -((ČOč)Oď) - Tipo: <class 'Logica.Negacion'>\n",
      "Expandiendo alfa 3: -((ČOč)Oď)\n",
      "Expandiendo alfa 3: -(ČOč)\n",
      "Expandiendo beta 3: (Ğ>-((ĜOĝ)Oğ))\n",
      "B1: -Ğ - Tipo: <class 'Logica.Negacion'>\n",
      "B2: -((ĜOĝ)Oğ) - Tipo: <class 'Logica.Negacion'>\n",
      "Expandiendo alfa 3: -((ĜOĝ)Oğ)\n",
      "Expandiendo alfa 3: -(ĜOĝ)\n",
      "Expandiendo beta 3: (Ħ>-((ĤOĥ)Oħ))\n",
      "B1: -Ħ - Tipo: <class 'Logica.Negacion'>\n",
      "B2: -((ĤOĥ)Oħ) - Tipo: <class 'Logica.Negacion'>\n",
      "Expandiendo alfa 3: -((ĤOĥ)Oħ)\n",
      "Expandiendo alfa 3: -(ĤOĥ)\n",
      "Expandiendo beta 3: (Ċ>-((ĈOĉ)Oċ))\n",
      "B1: -Ċ - Tipo: <class 'Logica.Negacion'>\n",
      "B2: -((ĈOĉ)Oċ) - Tipo: <class 'Logica.Negacion'>\n",
      "Expandiendo alfa 3: -((ĈOĉ)Oċ)\n",
      "Expandiendo alfa 3: -(ĈOĉ)\n",
      "Expandiendo beta 3: (Ě>-((ĘOę)Oě))\n",
      "B1: -Ě - Tipo: <class 'Logica.Negacion'>\n",
      "B2: -((ĘOę)Oě) - Tipo: <class 'Logica.Negacion'>\n",
      "Expandiendo alfa 3: -((ĘOę)Oě)\n",
      "Expandiendo alfa 3: -(ĘOę)\n",
      "Expandiendo beta 3: (Ģ>-((ĠOġ)Oģ))\n",
      "B1: -Ģ - Tipo: <class 'Logica.Negacion'>\n",
      "B2: -((ĠOġ)Oģ) - Tipo: <class 'Logica.Negacion'>\n",
      "Expandiendo alfa 3: -((ĠOġ)Oģ)\n",
      "Expandiendo alfa 3: -(ĠOġ)\n",
      "Expandiendo beta 3: (Ć>-((ĄOą)Oć))\n",
      "B1: -Ć - Tipo: <class 'Logica.Negacion'>\n",
      "B2: -((ĄOą)Oć) - Tipo: <class 'Logica.Negacion'>\n",
      "Expandiendo alfa 3: -((ĄOą)Oć)\n",
      "Expandiendo alfa 3: -(ĄOą)\n",
      "Expandiendo beta 3: (Ė>-((ĔOĕ)Oė))\n",
      "B1: -Ė - Tipo: <class 'Logica.Negacion'>\n",
      "B2: -((ĔOĕ)Oė) - Tipo: <class 'Logica.Negacion'>\n",
      "Expandiendo alfa 3: -((ĔOĕ)Oė)\n",
      "Expandiendo alfa 3: -(ĔOĕ)\n",
      "Expandiendo beta 3: (ĭ>-((ĬOĮ)Oį))\n",
      "B1: -ĭ - Tipo: <class 'Logica.Negacion'>\n",
      "B2: -((ĬOĮ)Oį) - Tipo: <class 'Logica.Negacion'>\n",
      "Expandiendo alfa 3: -((ĬOĮ)Oį)\n",
      "Expandiendo alfa 3: -(ĬOĮ)\n",
      "Expandiendo beta 3: (Ă>-((ĀOā)Oă))\n",
      "B1: -Ă - Tipo: <class 'Logica.Negacion'>\n",
      "B2: -((ĀOā)Oă) - Tipo: <class 'Logica.Negacion'>\n",
      "Expandiendo alfa 3: -((ĀOā)Oă)\n",
      "Expandiendo alfa 3: -(ĀOā)\n",
      "Expandiendo beta 3: (Ē>-((ĐOđ)Oē))\n",
      "B1: -Ē - Tipo: <class 'Logica.Negacion'>\n",
      "B2: -((ĐOđ)Oē) - Tipo: <class 'Logica.Negacion'>\n",
      "Expandiendo alfa 3: -((ĐOđ)Oē)\n",
      "Expandiendo alfa 3: -(ĐOđ)\n",
      "Expandiendo beta 3: (ĩ>-((ĨOĪ)Oī))\n",
      "B1: -ĩ - Tipo: <class 'Logica.Negacion'>\n",
      "B2: -((ĨOĪ)Oī) - Tipo: <class 'Logica.Negacion'>\n",
      "Expandiendo alfa 3: -((ĨOĪ)Oī)\n",
      "Expandiendo alfa 3: -(ĨOĪ)\n",
      "Expandiendo beta 3: (č>-((ČOĎ)Oď))\n",
      "B1: -č - Tipo: <class 'Logica.Negacion'>\n",
      "B2: -((ČOĎ)Oď) - Tipo: <class 'Logica.Negacion'>\n",
      "Expandiendo alfa 3: -((ČOĎ)Oď)\n",
      "Expandiendo alfa 3: -(ČOĎ)\n",
      "Expandiendo beta 3: (ĝ>-((ĜOĞ)Oğ))\n",
      "B1: -ĝ - Tipo: <class 'Logica.Negacion'>\n",
      "B2: -((ĜOĞ)Oğ) - Tipo: <class 'Logica.Negacion'>\n",
      "Expandiendo alfa 3: -((ĜOĞ)Oğ)\n",
      "Expandiendo alfa 3: -(ĜOĞ)\n",
      "Expandiendo beta 3: (ĥ>-((ĤOĦ)Oħ))\n",
      "B1: -ĥ - Tipo: <class 'Logica.Negacion'>\n",
      "B2: -((ĤOĦ)Oħ) - Tipo: <class 'Logica.Negacion'>\n",
      "Expandiendo alfa 3: -((ĤOĦ)Oħ)\n",
      "Expandiendo alfa 3: -(ĤOĦ)\n",
      "Expandiendo beta 3: (ĉ>-((ĈOĊ)Oċ))\n",
      "B1: -ĉ - Tipo: <class 'Logica.Negacion'>\n",
      "B2: -((ĈOĊ)Oċ) - Tipo: <class 'Logica.Negacion'>\n",
      "Expandiendo alfa 3: -((ĈOĊ)Oċ)\n",
      "Expandiendo alfa 3: -(ĈOĊ)\n",
      "Expandiendo beta 3: (ę>-((ĘOĚ)Oě))\n",
      "B1: -ę - Tipo: <class 'Logica.Negacion'>\n",
      "B2: -((ĘOĚ)Oě) - Tipo: <class 'Logica.Negacion'>\n",
      "Expandiendo alfa 3: -((ĘOĚ)Oě)\n",
      "Expandiendo alfa 3: -(ĘOĚ)\n",
      "Expandiendo beta 3: (ġ>-((ĠOĢ)Oģ))\n",
      "B1: -ġ - Tipo: <class 'Logica.Negacion'>\n",
      "B2: -((ĠOĢ)Oģ) - Tipo: <class 'Logica.Negacion'>\n",
      "Expandiendo alfa 3: -((ĠOĢ)Oģ)\n",
      "Expandiendo alfa 3: -(ĠOĢ)\n",
      "Expandiendo beta 3: (ą>-((ĄOĆ)Oć))\n",
      "B1: -ą - Tipo: <class 'Logica.Negacion'>\n",
      "B2: -((ĄOĆ)Oć) - Tipo: <class 'Logica.Negacion'>\n",
      "Expandiendo alfa 3: -((ĄOĆ)Oć)\n",
      "Expandiendo alfa 3: -(ĄOĆ)\n",
      "Expandiendo beta 3: (ĕ>-((ĔOĖ)Oė))\n",
      "B1: -ĕ - Tipo: <class 'Logica.Negacion'>\n",
      "B2: -((ĔOĖ)Oė) - Tipo: <class 'Logica.Negacion'>\n",
      "Expandiendo alfa 3: -((ĔOĖ)Oė)\n",
      "Expandiendo alfa 3: -(ĔOĖ)\n",
      "Expandiendo beta 3: (Ĭ>-((ĭOĮ)Oį))\n",
      "B1: -Ĭ - Tipo: <class 'Logica.Negacion'>\n",
      "B2: -((ĭOĮ)Oį) - Tipo: <class 'Logica.Negacion'>\n",
      "Expandiendo alfa 3: -((ĭOĮ)Oį)\n",
      "Expandiendo alfa 3: -(ĭOĮ)\n",
      "Expandiendo beta 3: (ā>-((ĀOĂ)Oă))\n",
      "B1: -ā - Tipo: <class 'Logica.Negacion'>\n",
      "B2: -((ĀOĂ)Oă) - Tipo: <class 'Logica.Negacion'>\n",
      "Expandiendo alfa 3: -((ĀOĂ)Oă)\n",
      "Expandiendo alfa 3: -(ĀOĂ)\n",
      "Expandiendo beta 3: (đ>-((ĐOĒ)Oē))\n",
      "B1: -đ - Tipo: <class 'Logica.Negacion'>\n",
      "B2: -((ĐOĒ)Oē) - Tipo: <class 'Logica.Negacion'>\n",
      "Expandiendo alfa 3: -((ĐOĒ)Oē)\n",
      "Expandiendo alfa 3: -(ĐOĒ)\n",
      "Expandiendo beta 3: (Ĩ>-((ĩOĪ)Oī))\n",
      "B1: -Ĩ - Tipo: <class 'Logica.Negacion'>\n",
      "B2: -((ĩOĪ)Oī) - Tipo: <class 'Logica.Negacion'>\n",
      "Expandiendo alfa 3: -((ĩOĪ)Oī)\n",
      "Expandiendo alfa 3: -(ĩOĪ)\n",
      "Expandiendo beta 3: (Č>-((čOĎ)Oď))\n",
      "B1: -Č - Tipo: <class 'Logica.Negacion'>\n",
      "B2: -((čOĎ)Oď) - Tipo: <class 'Logica.Negacion'>\n",
      "Expandiendo alfa 3: -((čOĎ)Oď)\n",
      "Expandiendo alfa 3: -(čOĎ)\n",
      "Expandiendo beta 3: (Ĝ>-((ĝOĞ)Oğ))\n",
      "B1: -Ĝ - Tipo: <class 'Logica.Negacion'>\n",
      "B2: -((ĝOĞ)Oğ) - Tipo: <class 'Logica.Negacion'>\n",
      "Expandiendo alfa 3: -((ĝOĞ)Oğ)\n",
      "Expandiendo alfa 3: -(ĝOĞ)\n",
      "Expandiendo beta 3: (Ġ>-((ġOĢ)Oģ))\n",
      "B1: -Ġ - Tipo: <class 'Logica.Negacion'>\n",
      "B2: -((ġOĢ)Oģ) - Tipo: <class 'Logica.Negacion'>\n",
      "Expandiendo alfa 3: -((ġOĢ)Oģ)\n",
      "Expandiendo alfa 3: -(ġOĢ)\n",
      "Expandiendo beta 3: (Ĥ>-((ĥOĦ)Oħ))\n",
      "B1: -Ĥ - Tipo: <class 'Logica.Negacion'>\n",
      "B2: -((ĥOĦ)Oħ) - Tipo: <class 'Logica.Negacion'>\n",
      "Expandiendo alfa 3: -((ĥOĦ)Oħ)\n",
      "Expandiendo alfa 3: -(ĥOĦ)\n",
      "Expandiendo beta 3: (Ĉ>-((ĉOĊ)Oċ))\n",
      "B1: -Ĉ - Tipo: <class 'Logica.Negacion'>\n",
      "B2: -((ĉOĊ)Oċ) - Tipo: <class 'Logica.Negacion'>\n",
      "Expandiendo alfa 3: -((ĉOĊ)Oċ)\n",
      "Expandiendo alfa 3: -(ĉOĊ)\n",
      "Expandiendo beta 3: (Ę>-((ęOĚ)Oě))\n",
      "B1: -Ę - Tipo: <class 'Logica.Negacion'>\n",
      "B2: -((ęOĚ)Oě) - Tipo: <class 'Logica.Negacion'>\n",
      "Expandiendo alfa 3: -((ęOĚ)Oě)\n",
      "Expandiendo alfa 3: -(ęOĚ)\n",
      "Expandiendo beta 3: (Ā>-((āOĂ)Oă))\n",
      "B1: -Ā - Tipo: <class 'Logica.Negacion'>\n",
      "B2: -((āOĂ)Oă) - Tipo: <class 'Logica.Negacion'>\n",
      "Expandiendo alfa 3: -((āOĂ)Oă)\n",
      "Expandiendo alfa 3: -(āOĂ)\n",
      "Expandiendo beta 3: (Đ>-((đOĒ)Oē))\n",
      "B1: -Đ - Tipo: <class 'Logica.Negacion'>\n",
      "B2: -((đOĒ)Oē) - Tipo: <class 'Logica.Negacion'>\n",
      "Expandiendo alfa 3: -((đOĒ)Oē)\n",
      "Expandiendo alfa 3: -(đOĒ)\n",
      "Expandiendo beta 3: (Ą>-((ąOĆ)Oć))\n",
      "B1: -Ą - Tipo: <class 'Logica.Negacion'>\n",
      "B2: -((ąOĆ)Oć) - Tipo: <class 'Logica.Negacion'>\n",
      "Expandiendo alfa 3: -((ąOĆ)Oć)\n",
      "Expandiendo alfa 3: -(ąOĆ)\n",
      "Expandiendo beta 3: (Ĕ>-((ĕOĖ)Oė))\n",
      "B1: -Ĕ - Tipo: <class 'Logica.Negacion'>\n",
      "B2: -((ĕOĖ)Oė) - Tipo: <class 'Logica.Negacion'>\n",
      "Resultado: {'Į': False, 'Ĭ': False, 'ĭ': False, 'Ī': False, 'Ĩ': False, 'ĩ': False, 'Ď': False, 'Č': False, 'č': False, 'Ğ': False, 'Ĝ': False, 'ĝ': False, 'Ħ': False, 'Ĥ': False, 'ĥ': False, 'Ċ': False, 'Ĉ': False, 'ĉ': False, 'Ě': False, 'Ę': False, 'ę': False, 'Ģ': False, 'Ġ': False, 'ġ': False, 'Ć': False, 'Ą': False, 'ą': False, 'Ė': False, 'Ĕ': False, 'ĕ': False, 'į': False, 'Ă': False, 'Ā': False, 'ā': False, 'Ē': False, 'Đ': False, 'đ': False, 'ī': False, 'ď': False, 'ğ': False, 'ħ': False, 'ċ': False, 'ě': False, 'ģ': False, 'ć': False, 'ė': False, 'ă': False, 'ē': False}\n"
     ]
    }
   ],
   "source": [
    "forms = [final]\n",
    "forms = [inorder_to_tree(f) for f in forms]\n",
    "n = nodos_tableaux(forms)\n",
    "I = primero_profundidad(n)\n",
    "print(\"Resultado:\", I)"
   ]
  },
  {
   "cell_type": "markdown",
   "metadata": {},
   "source": [
    "---"
   ]
  },
  {
   "cell_type": "markdown",
   "metadata": {},
   "source": [
    "# Sección opcional: Eficiencia de los algoritmos <a class=\"anchor\" id=\"efi\"></a>\n",
    "\n",
    "\n",
    "([Volver al inicio](#inicio))\n",
    "\n",
    "Vamos a verificar empíricamente cuál función es más rápida para expandir el árbol del tableaux de una fórmula dada. Para ello, crearemos fórmulas más y más grandes para probar en ellas nuestros tres algoritmos.\n",
    "\n",
    "Definimos nuestras funciones para medir tiempos en una lista de entradas: "
   ]
  },
  {
   "cell_type": "code",
   "execution_count": 28,
   "metadata": {},
   "outputs": [
    {
     "ename": "ModuleNotFoundError",
     "evalue": "No module named 'seaborn'",
     "output_type": "error",
     "traceback": [
      "\u001b[31m---------------------------------------------------------------------------\u001b[39m",
      "\u001b[31mModuleNotFoundError\u001b[39m                       Traceback (most recent call last)",
      "\u001b[36mCell\u001b[39m\u001b[36m \u001b[39m\u001b[32mIn[28]\u001b[39m\u001b[32m, line 2\u001b[39m\n\u001b[32m      1\u001b[39m \u001b[38;5;28;01mfrom\u001b[39;00m\u001b[38;5;250m \u001b[39m\u001b[34;01mtime\u001b[39;00m\u001b[38;5;250m \u001b[39m\u001b[38;5;28;01mimport\u001b[39;00m time\n\u001b[32m----> \u001b[39m\u001b[32m2\u001b[39m \u001b[38;5;28;01mimport\u001b[39;00m\u001b[38;5;250m \u001b[39m\u001b[34;01mseaborn\u001b[39;00m\u001b[38;5;250m \u001b[39m\u001b[38;5;28;01mas\u001b[39;00m\u001b[38;5;250m \u001b[39m\u001b[34;01msns\u001b[39;00m\n\u001b[32m      3\u001b[39m \u001b[38;5;28;01mimport\u001b[39;00m\u001b[38;5;250m \u001b[39m\u001b[34;01mpandas\u001b[39;00m\u001b[38;5;250m \u001b[39m\u001b[38;5;28;01mas\u001b[39;00m\u001b[38;5;250m \u001b[39m\u001b[34;01mpd\u001b[39;00m\n\u001b[32m      4\u001b[39m \u001b[38;5;28;01mimport\u001b[39;00m\u001b[38;5;250m \u001b[39m\u001b[34;01mmatplotlib\u001b[39;00m\u001b[34;01m.\u001b[39;00m\u001b[34;01mpyplot\u001b[39;00m\u001b[38;5;250m \u001b[39m\u001b[38;5;28;01mas\u001b[39;00m\u001b[38;5;250m \u001b[39m\u001b[34;01mplt\u001b[39;00m\n",
      "\u001b[31mModuleNotFoundError\u001b[39m: No module named 'seaborn'"
     ]
    }
   ],
   "source": [
    "from time import time\n",
    "import seaborn as sns\n",
    "import pandas as pd\n",
    "import matplotlib.pyplot as plt\n",
    "\n",
    "def obtiene_tiempos(fun, args, num_it=100):\n",
    "    tiempos_fun = []\n",
    "    for i in range(num_it):\n",
    "        arranca = time()\n",
    "        x = fun(*args)\n",
    "        para = time()\n",
    "        tiempos_fun.append(para - arranca)\n",
    "    return tiempos_fun\n",
    "\n",
    "def compara_entradas_funs(funs, nombres_funs, lista_args, N=100):\n",
    "    entradas = []\n",
    "    funcion = []\n",
    "    tiempos = []\n",
    "    lista_dfs = []\n",
    "    for i, args in enumerate(lista_args):\n",
    "        for j, fun in enumerate(funs):\n",
    "            t = obtiene_tiempos(fun, [args], N)\n",
    "            tiempos += t\n",
    "            n = len(t)\n",
    "            entradas += [i+1]*n\n",
    "            funcion += [nombres_funs[j]]*n\n",
    "        df = pd.DataFrame({'Long_entrada':entradas, \n",
    "                           'Funcion':funcion,\n",
    "                           'Tiempo_prom':tiempos})\n",
    "        lista_dfs.append(df)\n",
    "    df = pd.concat(lista_dfs).reset_index()\n",
    "    sns.lineplot(x='Long_entrada',y='Tiempo_prom',hue='Funcion',data=df)\n",
    "    plt.show()"
   ]
  },
  {
   "cell_type": "markdown",
   "metadata": {},
   "source": [
    "Creamos nuestra lista de fórmulas:"
   ]
  },
  {
   "cell_type": "code",
   "execution_count": null,
   "metadata": {},
   "outputs": [],
   "source": [
    "from random import uniform, choice\n",
    "\n",
    "cantidad = 20\n",
    "letras = [chr(i) for i in range(256, 256+cantidad)]\n",
    "lista = [letras[0]]\n",
    "formula = letras[0]\n",
    "for p in letras[1:]:\n",
    "    neg1 = '-' if uniform(0,1) > .5 else ''\n",
    "    neg2 = '-' if uniform(0,1) > .5 else ''\n",
    "    conectivo = choice(['Y','O','>'])\n",
    "    formula = neg2 + \"(\" + formula + conectivo + neg1 + p + \")\"\n",
    "    lista.append(formula)\n",
    "\n",
    "#lista"
   ]
  },
  {
   "cell_type": "markdown",
   "metadata": {},
   "source": [
    "Y, finalmente, medimos los tiempos de ejecución para cada fórmula:"
   ]
  },
  {
   "cell_type": "code",
   "execution_count": null,
   "metadata": {},
   "outputs": [],
   "source": [
    "nombres = ['primero anchura', 'primero profundidad', 'backtracking']\n",
    "anchura = lambda formula: primero_anchura(nodos_tableaux([inorder_to_tree(formula)]))\n",
    "profundidad = lambda formula: primero_profundidad(nodos_tableaux([inorder_to_tree(formula)]))\n",
    "backtrack = lambda formula: backtracking(nodos_tableaux([inorder_to_tree(formula)]))\n",
    "funs = [anchura, profundidad, backtrack]\n",
    "compara_entradas_funs(funs, nombres, lista)"
   ]
  },
  {
   "cell_type": "markdown",
   "metadata": {},
   "source": [
    "En esta gráfica es muy fácil apreciar que, a medida que aumentamos el número de letras proposicionales distintas en la fórmula de entrada, los tres algoritmos se tardan más en determinar si ella es satisfacible. De los tres algoritmos, el peor es el de backtracking y el mejor es el de primero en profundidad. No obstante, vemos que el número de letras proposicionales no es el único factor que influye en el tiempo de ejecución. También influye la estructura de la fórmula. Más adelante estudiaremos el comportamiento de los algoritmos de acuerdo a distintos tipos de fórmulas."
   ]
  },
  {
   "cell_type": "markdown",
   "metadata": {},
   "source": [
    "---"
   ]
  }
 ],
 "metadata": {
  "kernelspec": {
   "display_name": "Python 3 (ipykernel)",
   "language": "python",
   "name": "python3"
  },
  "language_info": {
   "codemirror_mode": {
    "name": "ipython",
    "version": 3
   },
   "file_extension": ".py",
   "mimetype": "text/x-python",
   "name": "python",
   "nbconvert_exporter": "python",
   "pygments_lexer": "ipython3",
   "version": "3.13.7"
  }
 },
 "nbformat": 4,
 "nbformat_minor": 4
}
