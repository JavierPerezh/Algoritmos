{
 "cells": [
  {
   "cell_type": "markdown",
   "metadata": {},
   "source": [
    "<table>\n",
    "    <tr>\n",
    "        <td><img src=\"./img/Macc.png\" width=\"auto\"/></td>\n",
    "        <td>\n",
    "            <table><tr>\n",
    "            <h1 style=\"color:blue;text-align:center\">Lógica para Ciencias de la Computación</h1></td>\n",
    "            </tr></table>   \n",
    "        <td>&nbsp;</td>\n",
    "        <td>\n",
    "            <table><tr>\n",
    "            <tp><p style=\"font-size:150%;text-align:center\">Taller</p></tp>\n",
    "            <tp><p style=\"font-size:150%;text-align:center\">Implementación de Tableaux</p></tp>\n",
    "            </tr></table>\n",
    "        </td>\n",
    "    </tr>\n",
    "</table>\n",
    "\n",
    "---"
   ]
  },
  {
   "cell_type": "markdown",
   "metadata": {},
   "source": [
    "# Objetivos <a class=\"anchor\" id=\"inicio\"></a>\n",
    "\n",
    "El objetivo de este notebook es implementar el algoritmo de construcción de tableros semánticos (tableaux). El método de los tableaux es un SATsolver, el cual recibe una fórmula y devuelve una interpretación de la misma, si es que existe, o informa que la fórmula es insatisfacible. Veremos diferentes maneras de implementar este método, dependiendo de distintas maneras de expandir el árbol del tableaux."
   ]
  },
  {
   "cell_type": "markdown",
   "metadata": {},
   "source": [
    "\n",
    "# Secciones\n",
    "\n",
    "1. [Clasificación de fórmulas para tableaux.](#clas)\n",
    "2. [Expansión primero en anchura.](#anchura)\n",
    "3. [Expansión primero en profundidad.](#prof)\n",
    "4. [Recorrido backtracking.](#backt)\n",
    "5. [Eficiencia de los algoritmos (opcional).](#efi)"
   ]
  },
  {
   "cell_type": "markdown",
   "metadata": {},
   "source": [
    "# Clasificación de fórmulas para tableaux <a class=\"anchor\" id=\"clas\"></a>\n",
    "\n",
    "([Volver al inicio](#inicio))\n",
    "\n",
    "Recordemos el siguiente diagrama de flujo para la implementación de un tableaux $\\tau$ para una fórmula $A$:\n",
    "\n",
    "<img src=\"./img/flow.png\" width=\"600\"/>\n",
    "\n",
    "Hay tres elementos centrales en este algoritmo:\n",
    "\n",
    "* Clasificación de una fórmula como $\\alpha$ o $\\beta$.\n",
    "* Implementación de los nodos.\n",
    "* Selección del próximo nodo a expandir.\n",
    "\n",
    "En esta sección veremos la clasificación de fórmulas y la implementación de los nodos. En las siguientes secciones veremos tres maneras distintas de seleccionar el próximo nodo a expandir."
   ]
  },
  {
   "cell_type": "markdown",
   "metadata": {},
   "source": [
    "### Clasificación de una fórmula como $\\alpha$ o $\\beta$\n",
    "\n",
    "Para realizar la implementación de los tableaux, el orden más apropiado es primero implementar la clasificación de fórmulas. Hemos visto que toda fórmula o es un literal, o puede clasificarse como una fórmula de tipo $\\alpha$ o $\\beta$. Para referencia, repetimos las clasificaciones en la siguiente figura:\n",
    "\n",
    "<img src=\"./img/clasif.png\" width=\"200px\"/>\n",
    "\n",
    "En el siguiente código hemos implementado la clasificación para dos casos: literales y fórmulas 1$\\alpha$:"
   ]
  },
  {
   "cell_type": "code",
   "execution_count": 24,
   "metadata": {},
   "outputs": [],
   "source": [
    "from Logica import *"
   ]
  },
  {
   "cell_type": "code",
   "execution_count": 25,
   "metadata": {},
   "outputs": [],
   "source": [
    "def clasifica_para_tableaux(self):\n",
    "    if type(self) == Letra:\n",
    "        return None, 'literal'          # Literal positivo\n",
    "    if type(self) == Negacion:\n",
    "        if type(self.subf) == Letra:\n",
    "            return None, 'literal'      # Literal negativo\n",
    "        if type(self.subf) == Negacion:\n",
    "            return 1, 'alfa'            # Fórmula 1 alfa\n",
    "        if type(self.subf) == Binario:\n",
    "            if self.subf.conectivo == 'Y':\n",
    "                return 1, 'beta'\n",
    "            if self.subf.conectivo == 'O':\n",
    "                return 3, 'alfa'\n",
    "            if self.subf.conectivo == '>':\n",
    "                return 4, 'alfa'\n",
    "            if self.subf.conectivo == '=':\n",
    "                return 5, 'beta'\n",
    "    if type(self) == Binario:\n",
    "        if self.conectivo == 'Y':\n",
    "            return 2, 'alfa'\n",
    "        if self.conectivo == 'O':\n",
    "            return 2, 'beta'\n",
    "        if self.conectivo == '>':\n",
    "            return 3, 'beta'\n",
    "        if self.conectivo == '=':\n",
    "            return 4, 'beta'\n",
    "\n",
    "setattr(Formula,\"clasifica_para_tableaux\",clasifica_para_tableaux)"
   ]
  },
  {
   "cell_type": "markdown",
   "metadata": {},
   "source": [
    "**Ejercicio 1:**\n",
    "\n",
    "Complete la anterior función `clasifica_para_tableaux` para clasificar el resto de fórmulas de acuerdo a su tipo. Pruebe su implementación con las siguientes fórmulas:\n",
    "\n",
    "**Nota:** La respuesta debe ser:\n",
    "\n",
    "```\n",
    "(1, 'alfa')\n",
    "(2, 'alfa')\n",
    "(3, 'alfa')\n",
    "(4, 'alfa')\n",
    "(1, 'beta')\n",
    "(2, 'beta')\n",
    "(3, 'beta')\n",
    "```"
   ]
  },
  {
   "cell_type": "code",
   "execution_count": 26,
   "metadata": {},
   "outputs": [
    {
     "name": "stdout",
     "output_type": "stream",
     "text": [
      "(1, 'alfa')\n",
      "(2, 'alfa')\n",
      "(3, 'alfa')\n",
      "(4, 'alfa')\n",
      "(1, 'beta')\n",
      "(2, 'beta')\n",
      "(None, 'literal')\n"
     ]
    }
   ],
   "source": [
    "f = '--(-(pOq)Y-(r>s))'  # 1, alfa\n",
    "A = inorder_to_tree(f)\n",
    "print(A.clasifica_para_tableaux())\n",
    "\n",
    "f = '(-(pOq)Y-(r>s))'  # 2, alfa\n",
    "A = inorder_to_tree(f)\n",
    "print(A.clasifica_para_tableaux())\n",
    "\n",
    "f = '-(pOq)'  # 3, alfa\n",
    "A = inorder_to_tree(f)\n",
    "print(A.clasifica_para_tableaux())\n",
    "\n",
    "f = '-(r>s)' # 4, alfa\n",
    "A = inorder_to_tree(f)\n",
    "print(A.clasifica_para_tableaux())\n",
    "\n",
    "f = '-(pYq)' # 1, beta\n",
    "A = inorder_to_tree(f)\n",
    "print(A.clasifica_para_tableaux())\n",
    "\n",
    "f = '(-(pYq)O(r>s))' # 2, beta\n",
    "A = inorder_to_tree(f)\n",
    "print(A.clasifica_para_tableaux())\n",
    "\n",
    "f = '-g' # None, literal\n",
    "A = inorder_to_tree(f)\n",
    "print(A.clasifica_para_tableaux())"
   ]
  },
  {
   "cell_type": "markdown",
   "metadata": {},
   "source": [
    "---"
   ]
  },
  {
   "cell_type": "markdown",
   "metadata": {},
   "source": [
    "### Implementación de los nodos\n",
    "\n",
    "El tableaux que vamos a implementar está basado en una estructura de datos conocida como árbol, el cual está basado en nodos. Los nodos son de la clase `nodos_tableaux` que se encuentra en la librería `Logica`. La descripción de la clase es la siguiente:\n",
    "\n",
    "**Atributos:**\n",
    "\n",
    "* `alfa`: una lista con las fórmulas tipo $\\alpha$, representadas como una 4-tupla que incluye la fórmula como árbol, como cadena, el número de la regla y la cadena 'alfa'.\n",
    "* `beta`: una lista con las fórmulas tipo $\\beta$, representadas como una 4-tupla que incluye la fórmula como árbol, como cadena, el número de la regla y la cadena 'beta'.\n",
    "* `literales`: una lista con los literales, representados como una 4-tupla que incluye la fórmula como árbol, como cadena, None y la cadena 'literal'.\n",
    "\n",
    "**Métodos:**\n",
    "\n",
    "* `tiene_lit_comp()`: retorna `True` si self.`literales` tiene un par complementario de literales.\n",
    "* `es_hoja()`: retorna 'cerrada' si self.`literales` tiene un par complementario de literales; 'abierta' si self.`literales` NO tiene un par complementario de literales y no tiene reglas ni alfa ni beta; None en otro caso.\n",
    "* `interp()`: retorna un diccionario que hace veradero a todos los literales en self.`literales`.\n",
    "* `expandir()`: retorna una lista con un único `nodo_tableaux`, el cual es el resultado de aplicar la primera regla $\\alpha$. Si no hay reglas $\\alpha$, retorna una lista con dos `nodo_tableaux` que son el resultado de aplicar la primera regla $\\beta$. Si no hay reglas $\\beta$, retorna una lista vacía.\n",
    "\n",
    "Para ilustrar esta clase, instanciemos un objeto a partir de una fórmula $\\alpha$, una $\\beta$ y un literal:"
   ]
  },
  {
   "cell_type": "code",
   "execution_count": 27,
   "metadata": {},
   "outputs": [
    {
     "name": "stdout",
     "output_type": "stream",
     "text": [
      "Nodo n:\n",
      "Alfas:['-(p>q)']\n",
      "Betas:['(pOq)']\n",
      "Literales:['-p']\n",
      "\n",
      "¿Tiene literales complementarios? False\n",
      "¿Es una hoja? None\n",
      "Interpretación para literales: {'p': False}\n"
     ]
    }
   ],
   "source": [
    "print('Nodo n:')\n",
    "forms = ['-(p>q)', '(pOq)', '-p']\n",
    "forms = [inorder_to_tree(f) for f in forms]\n",
    "n = nodos_tableaux(forms)\n",
    "print(n)\n",
    "print('')\n",
    "print('¿Tiene literales complementarios?', n.tiene_lit_comp())\n",
    "print('¿Es una hoja?', n.es_hoja())\n",
    "print('Interpretación para literales:', n.interp())"
   ]
  },
  {
   "cell_type": "markdown",
   "metadata": {},
   "source": [
    "El método `expandir` tomará la primera (y única en este caso) fórmula $\\alpha$ y devolvera una lista [`n1`] donde `n1` es el nodo resultado de aplicar la regla:"
   ]
  },
  {
   "cell_type": "code",
   "execution_count": 28,
   "metadata": {},
   "outputs": [
    {
     "data": {
      "text/plain": [
       "[<Logica.nodos_tableaux at 0x1c659153f50>]"
      ]
     },
     "execution_count": 28,
     "metadata": {},
     "output_type": "execute_result"
    }
   ],
   "source": [
    "hijos = n.expandir()\n",
    "hijos"
   ]
  },
  {
   "cell_type": "code",
   "execution_count": 29,
   "metadata": {},
   "outputs": [
    {
     "name": "stdout",
     "output_type": "stream",
     "text": [
      "Alfas:[]\n",
      "Betas:['(pOq)']\n",
      "Literales:['-p', 'p', '-q']\n"
     ]
    }
   ],
   "source": [
    "for hijo in hijos:\n",
    "    print(hijo)"
   ]
  },
  {
   "cell_type": "markdown",
   "metadata": {},
   "source": [
    "**Ejercicio 2:**\n",
    "\n",
    "Explanda el hijo de `n` y verifique si los nodos resultado tienen pares complementarios de literales."
   ]
  },
  {
   "cell_type": "code",
   "execution_count": 30,
   "metadata": {},
   "outputs": [
    {
     "name": "stdout",
     "output_type": "stream",
     "text": [
      "Alfas:[]\n",
      "Betas:['(pOq)']\n",
      "Literales:['-p', 'p', '-q']\n",
      "True\n"
     ]
    }
   ],
   "source": [
    "for hijo in hijos:\n",
    "    print(hijo)\n",
    "    print(hijo.tiene_lit_comp())"
   ]
  },
  {
   "cell_type": "markdown",
   "metadata": {},
   "source": [
    "---"
   ]
  },
  {
   "cell_type": "markdown",
   "metadata": {},
   "source": [
    "**Ejercicio 3:**\n",
    "\n",
    "Expanda manualmente (o mediante un while) el siguiente nodo hasta obtener solo una lista de literales y devuelva la interpretación que los hace verdaderos. Observe que todas sus subformulas son de tipo $\\alpha$:"
   ]
  },
  {
   "cell_type": "code",
   "execution_count": 31,
   "metadata": {},
   "outputs": [
    {
     "name": "stdout",
     "output_type": "stream",
     "text": [
      "Alfas:['-(pOq)', '-(r>s)']\n",
      "Betas:[]\n",
      "Literales:[]\n"
     ]
    }
   ],
   "source": [
    "forms = ['--(-(pOq)Y-(r>s))']\n",
    "forms = [inorder_to_tree(f) for f in forms]\n",
    "n = nodos_tableaux(forms)\n",
    "hijos = n.expandir()\n",
    "hijos2 = hijos[0].expandir()\n",
    "for hijo in hijos2:\n",
    "    print(hijo)"
   ]
  },
  {
   "cell_type": "markdown",
   "metadata": {},
   "source": [
    "---"
   ]
  },
  {
   "cell_type": "markdown",
   "metadata": {},
   "source": [
    "# Expansión primero en anchura <a class=\"anchor\" id=\"anchura\"></a>\n",
    "\n",
    "([Volver al inicio](#inicio))\n",
    "\n",
    "Ya tenemos los elementos necesarios para la generación del tableaux, pero necesitamos especificar una manera de ir expandiendo el árbol. Además de la opción de expandirlo de manera aleatoria -- seleccionando aleatoriamente un nodo que no sea una hoja -- tenemos tres opciones. En esta sección examinaremos la expansión primero en anchura. El pseudocódigo del algoritmo es el siguiente:\n",
    "\n",
    "<img src=\"./img/anchura.png\" width=\"350px\"/>\n",
    "\n",
    "La implementación en Python es la siguiente:"
   ]
  },
  {
   "cell_type": "code",
   "execution_count": 32,
   "metadata": {},
   "outputs": [],
   "source": [
    "def primero_anchura(nodo):\n",
    "    estado = nodo\n",
    "    res = estado.es_hoja()\n",
    "    if res == 'cerrada':\n",
    "        return None\n",
    "    elif res == 'abierta':\n",
    "        return estado.interp()\n",
    "    frontera = [estado]\n",
    "    while len(frontera) > 0:\n",
    "        estado = frontera.pop(0) \n",
    "        hijos = estado.expandir()\n",
    "        for a in hijos:\n",
    "            res = a.es_hoja()\n",
    "            if res == 'abierta':\n",
    "                return a.interp()\n",
    "            elif res == None:\n",
    "                frontera.append(a)\n",
    "    return None"
   ]
  },
  {
   "cell_type": "markdown",
   "metadata": {},
   "source": [
    "Podemos usar esta función para expandir el nodo del ejercicio 3:"
   ]
  },
  {
   "cell_type": "code",
   "execution_count": 33,
   "metadata": {},
   "outputs": [
    {
     "name": "stdout",
     "output_type": "stream",
     "text": [
      "Resultado: {'p': False, 'q': False, 'r': True, 's': False}\n"
     ]
    }
   ],
   "source": [
    "forms = ['--(-(pOq)Y-(r>s))']\n",
    "forms = [inorder_to_tree(f) for f in forms]\n",
    "n = nodos_tableaux(forms)\n",
    "I = primero_anchura(n)\n",
    "print(\"Resultado:\", I)"
   ]
  },
  {
   "cell_type": "markdown",
   "metadata": {},
   "source": [
    "**Ejercicio 4:**\n",
    "\n",
    "Expanda el nodo correspondiente a la siguiente fórmula:\n",
    "\n",
    "'(((pYq)O(rOq))Y(-qO-p))'\n",
    "\n",
    "Debe obtener la siguiente interpretación:\n",
    "\n",
    "Resultado: {'q': False, 'r': True}"
   ]
  },
  {
   "cell_type": "code",
   "execution_count": 34,
   "metadata": {},
   "outputs": [
    {
     "name": "stdout",
     "output_type": "stream",
     "text": [
      "Resultado: {'q': False, 'r': True}\n"
     ]
    }
   ],
   "source": [
    "forms = ['(((pYq)O(rOq))Y(-qO-p))']\n",
    "forms = [inorder_to_tree(f) for f in forms]\n",
    "n = nodos_tableaux(forms)\n",
    "I = primero_anchura(n)\n",
    "print(\"Resultado:\", I)"
   ]
  },
  {
   "cell_type": "markdown",
   "metadata": {},
   "source": [
    "---"
   ]
  },
  {
   "cell_type": "markdown",
   "metadata": {},
   "source": [
    "# Expansión primero en profundidad <a class=\"anchor\" id=\"prof\"></a>\n",
    "\n",
    "([Volver al inicio](#inicio))\n",
    "\n",
    "Además de poder expandir primero en anchura, podemos expandir primero en profundidad. El pseudocódigo de este algoritmo es el siguiente:\n",
    "\n",
    "<img src=\"./img/profundidad.png\" width=\"350px\"/>"
   ]
  },
  {
   "cell_type": "code",
   "execution_count": 35,
   "metadata": {},
   "outputs": [],
   "source": [
    "def primero_profundidad(nodo):\n",
    "    estado = nodo\n",
    "    res = estado.es_hoja()\n",
    "    if res == 'cerrada':\n",
    "        return None\n",
    "    elif res == 'abierta':\n",
    "        return estado.interp()\n",
    "    frontera = [estado]\n",
    "    while len(frontera) > 0:\n",
    "        estado = frontera.pop() \n",
    "        hijos = estado.expandir()\n",
    "        for a in hijos:\n",
    "            res = a.es_hoja()\n",
    "            if res == 'abierta':\n",
    "                return a.interp()\n",
    "            elif res == None:\n",
    "                frontera.append(a)\n",
    "    return None"
   ]
  },
  {
   "cell_type": "markdown",
   "metadata": {},
   "source": [
    "**Ejercicio 5:**\n",
    "\n",
    "Implemente la función `primero_profundidad` y expanda los nodos para las siguientes fórmulas:\n",
    "\n",
    "* '--(-(pOq)Y-(r>s))'\n",
    "* '(((pYq)O(rOq))Y(-qO-p))'\n",
    "\n",
    "Las soluciones deben ser las siguientes:\n",
    "\n",
    "* Resultado: {'p': False, 'q': False, 'r': True, 's': False}\n",
    "* Resultado: {'p': False, 'r': True}"
   ]
  },
  {
   "cell_type": "code",
   "execution_count": 36,
   "metadata": {},
   "outputs": [
    {
     "name": "stdout",
     "output_type": "stream",
     "text": [
      "Resultado: {'p': False, 'q': False, 'r': True, 's': False}\n"
     ]
    }
   ],
   "source": [
    "forms = ['--(-(pOq)Y-(r>s))']\n",
    "forms = [inorder_to_tree(f) for f in forms]\n",
    "n = nodos_tableaux(forms)\n",
    "I = primero_profundidad(n)\n",
    "print(\"Resultado:\", I)"
   ]
  },
  {
   "cell_type": "code",
   "execution_count": 37,
   "metadata": {},
   "outputs": [
    {
     "name": "stdout",
     "output_type": "stream",
     "text": [
      "Resultado: {'p': False, 'r': True}\n"
     ]
    }
   ],
   "source": [
    "forms = ['(((pYq)O(rOq))Y(-qO-p))']\n",
    "forms = [inorder_to_tree(f) for f in forms]\n",
    "n = nodos_tableaux(forms)\n",
    "I = primero_profundidad(n)\n",
    "print(\"Resultado:\", I)"
   ]
  },
  {
   "cell_type": "markdown",
   "metadata": {},
   "source": [
    "---"
   ]
  },
  {
   "cell_type": "markdown",
   "metadata": {},
   "source": [
    "# Recorrido con backtracking <a class=\"anchor\" id=\"backt\"></a>\n",
    "\n",
    "([Volver al inicio](#inicio))\n",
    "\n",
    "Podemos hacer también un recorrido por el árbol haciendo una expansión recursiva que implementa el backtracking, como en el siguiente pseudocódigo:\n",
    "\n",
    "<img src=\"./img/backtracking.png\" width=\"350px\"/>"
   ]
  },
  {
   "cell_type": "code",
   "execution_count": 38,
   "metadata": {},
   "outputs": [],
   "source": [
    "def backtracking(nodo):\n",
    "    estado = nodo\n",
    "    res = estado.es_hoja()\n",
    "    if res == 'cerrada':\n",
    "        return None\n",
    "    elif res == 'abierta':\n",
    "        return estado.interp()\n",
    "    for hijo in estado.expandir():\n",
    "        resultado = backtracking(hijo)\n",
    "        if resultado != None:\n",
    "            return resultado\n",
    "    return None"
   ]
  },
  {
   "cell_type": "markdown",
   "metadata": {},
   "source": [
    "**Ejercicio 6:**\n",
    "\n",
    "Implemente la función `backtracking` y expanda los nodos para las siguientes fórmulas:\n",
    "\n",
    "* '--(-(pOq)Y-(r>s))'\n",
    "* '(((pYq)O(rOq))Y(-qO-p))'\n",
    "\n",
    "Las soluciones deben ser las siguientes:\n",
    "\n",
    "* Resultado: {'p': False, 'q': False, 'r': True, 's': False}\n",
    "* Resultado: {'q': False, 'r': True}"
   ]
  },
  {
   "cell_type": "code",
   "execution_count": 39,
   "metadata": {},
   "outputs": [
    {
     "name": "stdout",
     "output_type": "stream",
     "text": [
      "Resultado: {'p': False, 'q': False, 'r': True, 's': False}\n"
     ]
    }
   ],
   "source": [
    "forms = ['--(-(pOq)Y-(r>s))']\n",
    "forms = [inorder_to_tree(f) for f in forms]\n",
    "n = nodos_tableaux(forms)\n",
    "I = backtracking(n)\n",
    "print(\"Resultado:\", I)"
   ]
  },
  {
   "cell_type": "code",
   "execution_count": 40,
   "metadata": {},
   "outputs": [
    {
     "name": "stdout",
     "output_type": "stream",
     "text": [
      "Resultado: {'q': False, 'r': True}\n"
     ]
    }
   ],
   "source": [
    "forms = ['(((pYq)O(rOq))Y(-qO-p))']\n",
    "forms = [inorder_to_tree(f) for f in forms]\n",
    "n = nodos_tableaux(forms)\n",
    "I = backtracking(n)\n",
    "print(\"Resultado:\", I)"
   ]
  },
  {
   "cell_type": "code",
   "execution_count": null,
   "metadata": {},
   "outputs": [],
   "source": [
    "import numpy as np\n",
    "\n",
    "class Descriptor :\n",
    "\n",
    "    '''\n",
    "    Codifica un descriptor de N argumentos mediante un solo caracter\n",
    "    Input:  args_lista, lista con el total de opciones para cada\n",
    "                     argumento del descriptor\n",
    "            chrInit, entero que determina el comienzo de la codificación chr()\n",
    "    Output: str de longitud 1\n",
    "    '''\n",
    "\n",
    "    def __init__ (self,args_lista,chrInit=256) -> None:\n",
    "        self.args_lista = args_lista\n",
    "        assert(len(args_lista) > 0), \"Debe haber por lo menos un argumento\"\n",
    "        self.chrInit = chrInit\n",
    "        self.rango = [chrInit, chrInit + np.prod(self.args_lista)]\n",
    "\n",
    "    def check_lista_valores(self,lista_valores: List[int]) -> None:\n",
    "        for i, v in enumerate(lista_valores) :\n",
    "            assert(v >= 0), \"Valores deben ser no negativos\"\n",
    "            assert(v < self.args_lista[i]), f\"Valor debe ser menor o igual a {self.args_lista[i]}\"\n",
    "\n",
    "    def codifica(self,lista_valores: List[int]) -> int:\n",
    "        self.check_lista_valores(lista_valores)\n",
    "        cod = lista_valores[0]\n",
    "        n_columnas = 1\n",
    "        for i in range(0, len(lista_valores) - 1) :\n",
    "            n_columnas = n_columnas * self.args_lista[i]\n",
    "            cod = n_columnas * lista_valores[i+1] + cod\n",
    "        return cod\n",
    "\n",
    "    def decodifica(self,n: int) -> int:\n",
    "        decods = []\n",
    "        if len(self.args_lista) > 1:\n",
    "            for i in range(0, len(self.args_lista) - 1) :\n",
    "                n_columnas = np.prod(self.args_lista[:-(i+1)])\n",
    "                decods.insert(0, int(n / n_columnas))\n",
    "                n = n % n_columnas\n",
    "        decods.insert(0, n % self.args_lista[0])\n",
    "        return decods\n",
    "\n",
    "    def ravel(self,lista_valores: List[int]) -> chr:\n",
    "        codigo = self.codifica(lista_valores)\n",
    "        return chr(self.chrInit+codigo)\n",
    "\n",
    "    def unravel(self,codigo: chr) -> int:\n",
    "        n = ord(codigo)-self.chrInit\n",
    "        return self.decodifica(n)\n",
    "    \n",
    "    def escribir(self, literal: chr) -> str:\n",
    "        if '-' in literal:\n",
    "            atomo = literal[1:]\n",
    "            neg = ' no'\n",
    "        else:\n",
    "            atomo = literal\n",
    "            neg = ''\n",
    "        n, r, c, t, o, s, m, d  = self.unravel(atomo)\n",
    "        return f\"PREDICADO({n, r, c, t, o, s, m, d})\"        \n",
    "    \n",
    "    \n",
    "\n",
    "def visualizar_formula(A: Formula, D: Descriptor) -> str:\n",
    "    '''\n",
    "    Visualiza una fórmula A (como string en notación inorder) usando el descriptor D\n",
    "    '''\n",
    "    vis = []\n",
    "    for c in A:\n",
    "        if c == '-':\n",
    "            vis.append(' no ')\n",
    "        elif c in ['(', ')']:\n",
    "            vis.append(c)\n",
    "        elif c in ['>', 'Y', 'O']:\n",
    "            vis.append(' ' + c + ' ')\n",
    "        elif c == '=':\n",
    "            vis.append(' sii ')\n",
    "        else:\n",
    "            try:\n",
    "                vis.append(D.escribir(c))\n",
    "            except:\n",
    "                raise(\"¡Caracter inválido!\")\n",
    "    return ''.join(vis)"
   ]
  },
  {
   "cell_type": "markdown",
   "metadata": {},
   "source": [
    "# Quiz"
   ]
  },
  {
   "cell_type": "code",
   "execution_count": 43,
   "metadata": {},
   "outputs": [],
   "source": [
    "Nx = 4\n",
    "Ny = 4\n",
    "Nn = Nx * Ny\n",
    "Nf = 3\n",
    "X = list(range(Nx))\n",
    "Y = list(range(Ny))\n",
    "F = list(range(Nf))\n",
    "nombres_F = {0: 'tr', 1: 'cu', 2: 'ci'}\n",
    "\n",
    "casillas = list(range(Nn))\n",
    "FichaEn = Descriptor([Nx, Ny, Nf])"
   ]
  },
  {
   "cell_type": "code",
   "execution_count": 44,
   "metadata": {
    "scrolled": true
   },
   "outputs": [
    {
     "name": "stdout",
     "output_type": "stream",
     "text": [
      "Cantidad de átomos FichaEn: 48\n",
      "Caracteres correspondientes a los átomos OenCasilla:\n",
      "\n",
      "Que la figura tr está en la casilla (0,0) es el átomo Ā\n",
      "Que la figura cu está en la casilla (0,0) es el átomo Đ\n",
      "Que la figura ci está en la casilla (0,0) es el átomo Ġ\n",
      "Que la figura tr está en la casilla (0,1) es el átomo Ą\n",
      "Que la figura cu está en la casilla (0,1) es el átomo Ĕ\n",
      "Que la figura ci está en la casilla (0,1) es el átomo Ĥ\n",
      "Que la figura tr está en la casilla (0,2) es el átomo Ĉ\n",
      "Que la figura cu está en la casilla (0,2) es el átomo Ę\n",
      "Que la figura ci está en la casilla (0,2) es el átomo Ĩ\n",
      "Que la figura tr está en la casilla (0,3) es el átomo Č\n",
      "Que la figura cu está en la casilla (0,3) es el átomo Ĝ\n",
      "Que la figura ci está en la casilla (0,3) es el átomo Ĭ\n",
      "\n",
      "Que la figura tr está en la casilla (1,0) es el átomo ā\n",
      "Que la figura cu está en la casilla (1,0) es el átomo đ\n",
      "Que la figura ci está en la casilla (1,0) es el átomo ġ\n",
      "Que la figura tr está en la casilla (1,1) es el átomo ą\n",
      "Que la figura cu está en la casilla (1,1) es el átomo ĕ\n",
      "Que la figura ci está en la casilla (1,1) es el átomo ĥ\n",
      "Que la figura tr está en la casilla (1,2) es el átomo ĉ\n",
      "Que la figura cu está en la casilla (1,2) es el átomo ę\n",
      "Que la figura ci está en la casilla (1,2) es el átomo ĩ\n",
      "Que la figura tr está en la casilla (1,3) es el átomo č\n",
      "Que la figura cu está en la casilla (1,3) es el átomo ĝ\n",
      "Que la figura ci está en la casilla (1,3) es el átomo ĭ\n",
      "\n",
      "Que la figura tr está en la casilla (2,0) es el átomo Ă\n",
      "Que la figura cu está en la casilla (2,0) es el átomo Ē\n",
      "Que la figura ci está en la casilla (2,0) es el átomo Ģ\n",
      "Que la figura tr está en la casilla (2,1) es el átomo Ć\n",
      "Que la figura cu está en la casilla (2,1) es el átomo Ė\n",
      "Que la figura ci está en la casilla (2,1) es el átomo Ħ\n",
      "Que la figura tr está en la casilla (2,2) es el átomo Ċ\n",
      "Que la figura cu está en la casilla (2,2) es el átomo Ě\n",
      "Que la figura ci está en la casilla (2,2) es el átomo Ī\n",
      "Que la figura tr está en la casilla (2,3) es el átomo Ď\n",
      "Que la figura cu está en la casilla (2,3) es el átomo Ğ\n",
      "Que la figura ci está en la casilla (2,3) es el átomo Į\n",
      "\n",
      "Que la figura tr está en la casilla (3,0) es el átomo ă\n",
      "Que la figura cu está en la casilla (3,0) es el átomo ē\n",
      "Que la figura ci está en la casilla (3,0) es el átomo ģ\n",
      "Que la figura tr está en la casilla (3,1) es el átomo ć\n",
      "Que la figura cu está en la casilla (3,1) es el átomo ė\n",
      "Que la figura ci está en la casilla (3,1) es el átomo ħ\n",
      "Que la figura tr está en la casilla (3,2) es el átomo ċ\n",
      "Que la figura cu está en la casilla (3,2) es el átomo ě\n",
      "Que la figura ci está en la casilla (3,2) es el átomo ī\n",
      "Que la figura tr está en la casilla (3,3) es el átomo ď\n",
      "Que la figura cu está en la casilla (3,3) es el átomo ğ\n",
      "Que la figura ci está en la casilla (3,3) es el átomo į\n",
      "\n"
     ]
    }
   ],
   "source": [
    "print(\"Cantidad de átomos FichaEn:\", FichaEn.rango[1] - FichaEn.rango[0])\n",
    "print(\"Caracteres correspondientes a los átomos OenCasilla:\\n\")\n",
    "for x in range(Nx):\n",
    "    for y in range(Ny):\n",
    "        for f in range(Nf):\n",
    "            atomo = FichaEn.ravel([x,y,f])\n",
    "            print(f\"Que la figura {nombres_F[f]} está en la casilla ({X[x]},{Y[y]}) es el átomo {atomo}\")\n",
    "    print(\"\")"
   ]
  },
  {
   "cell_type": "markdown",
   "metadata": {},
   "source": [
    "## Restricción 4\n",
    "No puede repetirse la misma figura en una fila.\n",
    "\n",
    "$$\\bigwedge_{x \\in X}\\bigwedge_{y \\in Y}\\bigwedge_{f \\in F} (FichaEn(x, y, f) \\rightarrow \\neg ( \\bigvee_{c \\in X - \\{x\\}} FichaEn(c,y,f)))$$"
   ]
  },
  {
   "cell_type": "code",
   "execution_count": null,
   "metadata": {},
   "outputs": [],
   "source": [
    "final = ''\n",
    "inicial4 = True\n",
    "\n",
    "for x in X:\n",
    "    formula3 = ''\n",
    "    inicial3 = True\n",
    "    for y in Y:\n",
    "        formula2 = ''\n",
    "        inicial2 = True\n",
    "        for f in F:\n",
    "            otras_columnas = [c for c in X if c != x]\n",
    "            inicial = True\n",
    "            for c in otras_columnas:\n",
    "                if inicial:\n",
    "                    formula1 = FichaEn.ravel([c, y, f])\n",
    "                    inicial = False\n",
    "                else:\n",
    "                    formula1 = '(' + formula1 + 'O' + FichaEn.ravel([c, y, f]) + ')'\n",
    "            \n",
    "            f1 = '(' + FichaEn.ravel([x, y, f]) + '>-' + '(' + formula_c + ')' + ')'\n",
    "            \n",
    "            if inicial2:\n",
    "                formula2 = f1\n",
    "                inicial2 = False\n",
    "            else:\n",
    "                formula2 = '(' + formula2 + 'Y' + formula1 + ')'\n",
    "        \n",
    "        if inicial3:\n",
    "            formula3 = formula2\n",
    "            inicial3 = False\n",
    "        else:\n",
    "            formula3 = '(' + formula3 + 'Y' + formula2 + ')'\n",
    "    \n",
    "    if inicial4:\n",
    "        final = formula3\n",
    "        inicial4 = False\n",
    "    else:\n",
    "        final = '(' + final + 'Y' + formula3 + ')'\n",
    "\n",
    "print(final)\n",
    "print(\"\")\n",
    "print(visualizar_formula(final, FichaEn))\n"
   ]
  },
  {
   "cell_type": "code",
   "execution_count": null,
   "metadata": {},
   "outputs": [],
   "source": [
    "print(final)"
   ]
  },
  {
   "cell_type": "code",
   "execution_count": 49,
   "metadata": {},
   "outputs": [
    {
     "ename": "TypeError",
     "evalue": "'NoneType' object is not subscriptable",
     "output_type": "error",
     "traceback": [
      "\u001b[1;31m---------------------------------------------------------------------------\u001b[0m",
      "\u001b[1;31mTypeError\u001b[0m                                 Traceback (most recent call last)",
      "Cell \u001b[1;32mIn[49], line 4\u001b[0m\n\u001b[0;32m      2\u001b[0m forms \u001b[38;5;241m=\u001b[39m [inorder_to_tree(f) \u001b[38;5;28;01mfor\u001b[39;00m f \u001b[38;5;129;01min\u001b[39;00m forms]\n\u001b[0;32m      3\u001b[0m n \u001b[38;5;241m=\u001b[39m nodos_tableaux(forms)\n\u001b[1;32m----> 4\u001b[0m I \u001b[38;5;241m=\u001b[39m primero_profundidad(n)\n\u001b[0;32m      5\u001b[0m \u001b[38;5;28mprint\u001b[39m(\u001b[38;5;124m\"\u001b[39m\u001b[38;5;124mResultado:\u001b[39m\u001b[38;5;124m\"\u001b[39m, I)\n",
      "Cell \u001b[1;32mIn[35], line 11\u001b[0m, in \u001b[0;36mprimero_profundidad\u001b[1;34m(nodo)\u001b[0m\n\u001b[0;32m      9\u001b[0m \u001b[38;5;28;01mwhile\u001b[39;00m \u001b[38;5;28mlen\u001b[39m(frontera) \u001b[38;5;241m>\u001b[39m \u001b[38;5;241m0\u001b[39m:\n\u001b[0;32m     10\u001b[0m     estado \u001b[38;5;241m=\u001b[39m frontera\u001b[38;5;241m.\u001b[39mpop() \n\u001b[1;32m---> 11\u001b[0m     hijos \u001b[38;5;241m=\u001b[39m estado\u001b[38;5;241m.\u001b[39mexpandir()\n\u001b[0;32m     12\u001b[0m     \u001b[38;5;28;01mfor\u001b[39;00m a \u001b[38;5;129;01min\u001b[39;00m hijos:\n\u001b[0;32m     13\u001b[0m         res \u001b[38;5;241m=\u001b[39m a\u001b[38;5;241m.\u001b[39mes_hoja()\n",
      "File \u001b[1;32m~\\Downloads\\Implementación de los tableaux-20251001\\Logica.py:197\u001b[0m, in \u001b[0;36mnodos_tableaux.expandir\u001b[1;34m(self)\u001b[0m\n\u001b[0;32m    195\u001b[0m     lista\u001b[38;5;241m.\u001b[39mappend((B1, \u001b[38;5;28mstr\u001b[39m(B1), \u001b[38;5;241m*\u001b[39mclasf))\n\u001b[0;32m    196\u001b[0m clasf \u001b[38;5;241m=\u001b[39m B2\u001b[38;5;241m.\u001b[39mclasifica_para_tableaux()\n\u001b[1;32m--> 197\u001b[0m \u001b[38;5;28;01mif\u001b[39;00m clasf[\u001b[38;5;241m1\u001b[39m]\u001b[38;5;241m==\u001b[39m \u001b[38;5;124m'\u001b[39m\u001b[38;5;124malfa\u001b[39m\u001b[38;5;124m'\u001b[39m:\n\u001b[0;32m    198\u001b[0m     lista \u001b[38;5;241m=\u001b[39m f_alfas2\n\u001b[0;32m    199\u001b[0m \u001b[38;5;28;01melif\u001b[39;00m clasf[\u001b[38;5;241m1\u001b[39m]\u001b[38;5;241m==\u001b[39m \u001b[38;5;124m'\u001b[39m\u001b[38;5;124mbeta\u001b[39m\u001b[38;5;124m'\u001b[39m:\n",
      "\u001b[1;31mTypeError\u001b[0m: 'NoneType' object is not subscriptable"
     ]
    }
   ],
   "source": [
    "forms = [final]\n",
    "forms = [inorder_to_tree(f) for f in forms]\n",
    "n = nodos_tableaux(forms)\n",
    "I = primero_profundidad(n)\n",
    "print(\"Resultado:\", I)"
   ]
  },
  {
   "cell_type": "markdown",
   "metadata": {},
   "source": [
    "---"
   ]
  },
  {
   "cell_type": "markdown",
   "metadata": {},
   "source": [
    "# Sección opcional: Eficiencia de los algoritmos <a class=\"anchor\" id=\"efi\"></a>\n",
    "\n",
    "\n",
    "([Volver al inicio](#inicio))\n",
    "\n",
    "Vamos a verificar empíricamente cuál función es más rápida para expandir el árbol del tableaux de una fórmula dada. Para ello, crearemos fórmulas más y más grandes para probar en ellas nuestros tres algoritmos.\n",
    "\n",
    "Definimos nuestras funciones para medir tiempos en una lista de entradas: "
   ]
  },
  {
   "cell_type": "code",
   "execution_count": null,
   "metadata": {},
   "outputs": [],
   "source": [
    "from time import time\n",
    "import seaborn as sns\n",
    "import pandas as pd\n",
    "import matplotlib.pyplot as plt\n",
    "\n",
    "def obtiene_tiempos(fun, args, num_it=100):\n",
    "    tiempos_fun = []\n",
    "    for i in range(num_it):\n",
    "        arranca = time()\n",
    "        x = fun(*args)\n",
    "        para = time()\n",
    "        tiempos_fun.append(para - arranca)\n",
    "    return tiempos_fun\n",
    "\n",
    "def compara_entradas_funs(funs, nombres_funs, lista_args, N=100):\n",
    "    entradas = []\n",
    "    funcion = []\n",
    "    tiempos = []\n",
    "    lista_dfs = []\n",
    "    for i, args in enumerate(lista_args):\n",
    "        for j, fun in enumerate(funs):\n",
    "            t = obtiene_tiempos(fun, [args], N)\n",
    "            tiempos += t\n",
    "            n = len(t)\n",
    "            entradas += [i+1]*n\n",
    "            funcion += [nombres_funs[j]]*n\n",
    "        df = pd.DataFrame({'Long_entrada':entradas, \n",
    "                           'Funcion':funcion,\n",
    "                           'Tiempo_prom':tiempos})\n",
    "        lista_dfs.append(df)\n",
    "    df = pd.concat(lista_dfs).reset_index()\n",
    "    sns.lineplot(x='Long_entrada',y='Tiempo_prom',hue='Funcion',data=df)\n",
    "    plt.show()"
   ]
  },
  {
   "cell_type": "markdown",
   "metadata": {},
   "source": [
    "Creamos nuestra lista de fórmulas:"
   ]
  },
  {
   "cell_type": "code",
   "execution_count": null,
   "metadata": {},
   "outputs": [],
   "source": [
    "from random import uniform, choice\n",
    "\n",
    "cantidad = 20\n",
    "letras = [chr(i) for i in range(256, 256+cantidad)]\n",
    "lista = [letras[0]]\n",
    "formula = letras[0]\n",
    "for p in letras[1:]:\n",
    "    neg1 = '-' if uniform(0,1) > .5 else ''\n",
    "    neg2 = '-' if uniform(0,1) > .5 else ''\n",
    "    conectivo = choice(['Y','O','>'])\n",
    "    formula = neg2 + \"(\" + formula + conectivo + neg1 + p + \")\"\n",
    "    lista.append(formula)\n",
    "\n",
    "#lista"
   ]
  },
  {
   "cell_type": "markdown",
   "metadata": {},
   "source": [
    "Y, finalmente, medimos los tiempos de ejecución para cada fórmula:"
   ]
  },
  {
   "cell_type": "code",
   "execution_count": null,
   "metadata": {},
   "outputs": [],
   "source": [
    "nombres = ['primero anchura', 'primero profundidad', 'backtracking']\n",
    "anchura = lambda formula: primero_anchura(nodos_tableaux([inorder_to_tree(formula)]))\n",
    "profundidad = lambda formula: primero_profundidad(nodos_tableaux([inorder_to_tree(formula)]))\n",
    "backtrack = lambda formula: backtracking(nodos_tableaux([inorder_to_tree(formula)]))\n",
    "funs = [anchura, profundidad, backtrack]\n",
    "compara_entradas_funs(funs, nombres, lista)"
   ]
  },
  {
   "cell_type": "markdown",
   "metadata": {},
   "source": [
    "En esta gráfica es muy fácil apreciar que, a medida que aumentamos el número de letras proposicionales distintas en la fórmula de entrada, los tres algoritmos se tardan más en determinar si ella es satisfacible. De los tres algoritmos, el peor es el de backtracking y el mejor es el de primero en profundidad. No obstante, vemos que el número de letras proposicionales no es el único factor que influye en el tiempo de ejecución. También influye la estructura de la fórmula. Más adelante estudiaremos el comportamiento de los algoritmos de acuerdo a distintos tipos de fórmulas."
   ]
  },
  {
   "cell_type": "markdown",
   "metadata": {},
   "source": [
    "---"
   ]
  }
 ],
 "metadata": {
  "kernelspec": {
   "display_name": "Python [conda env:base] *",
   "language": "python",
   "name": "conda-base-py"
  },
  "language_info": {
   "codemirror_mode": {
    "name": "ipython",
    "version": 3
   },
   "file_extension": ".py",
   "mimetype": "text/x-python",
   "name": "python",
   "nbconvert_exporter": "python",
   "pygments_lexer": "ipython3",
   "version": "3.13.5"
  }
 },
 "nbformat": 4,
 "nbformat_minor": 4
}
