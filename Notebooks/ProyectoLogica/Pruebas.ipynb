{
 "cells": [
  {
   "cell_type": "code",
   "execution_count": 2,
   "metadata": {
    "scrolled": true
   },
   "outputs": [],
   "source": [
    "import time \n",
    "from Logica import *\n",
    "from Proyecto import Fichas\n",
    "import sys\n",
    "sys.setrecursionlimit(50000)\n",
    "f = Fichas()"
   ]
  },
  {
   "cell_type": "code",
   "execution_count": 3,
   "metadata": {},
   "outputs": [
    {
     "name": "stdout",
     "output_type": "stream",
     "text": [
      "Tiempo total: 0.161565 segundos\n"
     ]
    },
    {
     "data": {
      "image/png": "[encoded data removed]",
      "text/plain": [
       "<Figure size 400x400 with 1 Axes>"
      ]
     },
     "metadata": {},
     "output_type": "display_data"
    }
   ],
   "source": [
    "condicionInicial = [f.FichaEn.ravel([0,0,0]), f.FichaEn.ravel([1,2,0])]\n",
    "form = Ytoria(f.reglas)\n",
    "S = tseitin(form)\n",
    "form = inorder_to_tree(form)\n",
    "inicio = time.time()\n",
    "resultado, interpretacion = dpll(S, {}, f.FichaEn)\n",
    "fin = time.time()\n",
    "tiempoTotal = fin - inicio\n",
    "print(f\"Tiempo total: {tiempoTotal:.6f} segundos\")\n",
    "f.visualizar(interpretacion)"
   ]
  },
  {
   "cell_type": "code",
   "execution_count": 4,
   "metadata": {},
   "outputs": [
    {
     "data": {
      "text/plain": [
       "'\\nprint(\"Desempeño SATtabla\")\\nlista = []\\nfor i, regla in enumerate(f.reglas):\\n\\n    print(f\"==================Regla {i+1}====================\")\\n    A = inorder_to_tree(regla)\\n    inicio = time.time()\\n    I = A.SATtabla()\\n    fin = time.time()\\n    f.visualizar(I)\\n    lista.append(regla)\\n    tiempoTotal = fin - inicio\\n    print(f\"Tiempo de ejecucion: {tiempoTotal:.4f} segundos\")\\n    if i < 0:\\n        print(f\"Para la combinacion de las reglas 1 - {i+1}\")\\n        xregla = Ytoria(lista)\\n        B = inorder_to_tree(xregla)\\n        inicio = time.time()\\n        I = B.SATtabla()\\n        fin = time.time()\\n        f.visualizar(I)\\n        tiempoTotal = fin - inicio\\n        print(f\"Tiempo de ejecucion: {tiempoTotal:.4f} segundos\")\\n'"
      ]
     },
     "execution_count": 4,
     "metadata": {},
     "output_type": "execute_result"
    }
   ],
   "source": [
    "#Ojo con esto pq se estalla el pc\n",
    "'''\n",
    "print(\"Desempeño SATtabla\")\n",
    "lista = []\n",
    "for i, regla in enumerate(f.reglas):\n",
    "    \n",
    "    print(f\"==================Regla {i+1}====================\")\n",
    "    A = inorder_to_tree(regla)\n",
    "    inicio = time.time()\n",
    "    I = A.SATtabla()\n",
    "    fin = time.time()\n",
    "    f.visualizar(I)\n",
    "    lista.append(regla)\n",
    "    tiempoTotal = fin - inicio\n",
    "    print(f\"Tiempo de ejecucion: {tiempoTotal:.4f} segundos\")\n",
    "    if i < 0:\n",
    "        print(f\"Para la combinacion de las reglas 1 - {i+1}\")\n",
    "        xregla = Ytoria(lista)\n",
    "        B = inorder_to_tree(xregla)\n",
    "        inicio = time.time()\n",
    "        I = B.SATtabla()\n",
    "        fin = time.time()\n",
    "        f.visualizar(I)\n",
    "        tiempoTotal = fin - inicio\n",
    "        print(f\"Tiempo de ejecucion: {tiempoTotal:.4f} segundos\")\n",
    "'''"
   ]
  },
  {
   "cell_type": "code",
   "execution_count": null,
   "metadata": {},
   "outputs": [
    {
     "name": "stdout",
     "output_type": "stream",
     "text": [
      "Desempeño SATtableux\n"
     ]
    },
    {
     "data": {
      "image/png": "[encoded data removed]",
      "text/plain": [
       "<Figure size 400x400 with 1 Axes>"
      ]
     },
     "metadata": {},
     "output_type": "display_data"
    },
    {
     "name": "stdout",
     "output_type": "stream",
     "text": [
      "Tiempo de ejecucion: 2.3701 segundos\n"
     ]
    },
    {
     "data": {
      "text/plain": [
       "'\\nfor i, regla in enumerate(f.reglas):\\n\\n    print(f\"==================Regla {i+1}====================\")\\n    A = inorder_to_tree(regla)\\n    inicio = time.time()\\n    I = A.SATtableaux()\\n    fin = time.time()\\n    f.visualizar(I)\\n    lista.append(regla)\\n    tiempoTotal = fin - inicio\\n    print(f\"Tiempo de ejecucion: {tiempoTotal:.4f} segundos\")\\n    if i < 0:\\n        print(f\"Para la combinacion de las reglas 1 - {i+1}\")\\n        xregla = Ytoria(lista)\\n        B = inorder_to_tree(xregla)\\n        inicio = time.time()\\n        I = B.SATtabla()\\n        fin = time.time()\\n        f.visualizar(I)\\n        tiempoTotal = fin - inicio\\n        print(f\"Tiempo de ejecucion: {tiempoTotal:.4f} segundos\")\\n'"
      ]
     },
     "execution_count": 10,
     "metadata": {},
     "output_type": "execute_result"
    }
   ],
   "source": [
    "print(\"Desempeño SATtableux (primero en profundidad)\")\n",
    "form = Ytoria([f.reglas[0], f.reglas[1], f.reglas[2], f.reglas[3], f.reglas[4], f.reglas[5], f.reglas[6]])\n",
    "A = inorder_to_tree(form)\n",
    "inicio = time.time()\n",
    "I = A.SATtableaux()\n",
    "fin = time.time()\n",
    "f.visualizar(I)\n",
    "tiempoTotal = fin - inicio\n",
    "print(f\"Tiempo de ejecucion: {tiempoTotal:.4f} segundos\")\n",
    "\n",
    "'''\n",
    "for i, regla in enumerate(f.reglas):\n",
    "    \n",
    "    print(f\"==================Regla {i+1}====================\")\n",
    "    A = inorder_to_tree(regla)\n",
    "    inicio = time.time()\n",
    "    I = A.SATtableaux()\n",
    "    fin = time.time()\n",
    "    f.visualizar(I)\n",
    "    lista.append(regla)\n",
    "    tiempoTotal = fin - inicio\n",
    "    print(f\"Tiempo de ejecucion: {tiempoTotal:.4f} segundos\")\n",
    "    if i < 0:\n",
    "        print(f\"Para la combinacion de las reglas 1 - {i+1}\")\n",
    "        xregla = Ytoria(lista)\n",
    "        B = inorder_to_tree(xregla)\n",
    "        inicio = time.time()\n",
    "        I = B.SATtabla()\n",
    "        fin = time.time()\n",
    "        f.visualizar(I)\n",
    "        tiempoTotal = fin - inicio\n",
    "        print(f\"Tiempo de ejecucion: {tiempoTotal:.4f} segundos\")\n",
    "'''"
   ]
  },
  {
   "cell_type": "code",
   "execution_count": null,
   "metadata": {},
   "outputs": [],
   "source": []
  }
 ],
 "metadata": {
  "kernelspec": {
   "display_name": "Python 3",
   "language": "python",
   "name": "python3"
  },
  "language_info": {
   "codemirror_mode": {
    "name": "ipython",
    "version": 3
   },
   "file_extension": ".py",
   "mimetype": "text/x-python",
   "name": "python",
   "nbconvert_exporter": "python",
   "pygments_lexer": "ipython3",
   "version": "3.13.7"
  }
 },
 "nbformat": 4,
 "nbformat_minor": 4
}
